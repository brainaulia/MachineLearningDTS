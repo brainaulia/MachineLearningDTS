{
  "nbformat": 4,
  "nbformat_minor": 0,
  "metadata": {
    "colab": {
      "name": "Project1_FMNIST_KElompok2_fix.ipynb",
      "version": "0.3.2",
      "provenance": [],
      "collapsed_sections": []
    },
    "kernelspec": {
      "name": "python3",
      "display_name": "Python 3"
    },
    "accelerator": "GPU"
  },
  "cells": [
    {
      "cell_type": "markdown",
      "metadata": {
        "id": "EJ3DnfE0Y-cX",
        "colab_type": "text"
      },
      "source": [
        "<h1><font size = 5>Project Deep Learning DTS Fashion MNIST</font></h1>\n",
        "\n",
        "\n",
        "\n",
        "---\n",
        "\n"
      ]
    },
    {
      "cell_type": "markdown",
      "metadata": {
        "id": "rlIjP2mtZ2cP",
        "colab_type": "text"
      },
      "source": [
        "#Download Dataset"
      ]
    },
    {
      "cell_type": "code",
      "metadata": {
        "id": "_VY-l_D-Y8yT",
        "colab_type": "code",
        "outputId": "00785a5b-74a7-4b17-a671-3ddd3f2fd047",
        "colab": {
          "base_uri": "https://localhost:8080/",
          "height": 862
        }
      },
      "source": [
        "!mkdir data\n",
        "!mkdir data/fashion\n",
        "!wget -O data/fashion/train-images-idx3-ubyte.gz http://fashion-mnist.s3-website.eu-central-1.amazonaws.com/train-images-idx3-ubyte.gz\n",
        "!wget -O data/fashion/train-labels-idx1-ubyte.gz http://fashion-mnist.s3-website.eu-central-1.amazonaws.com/train-labels-idx1-ubyte.gz\n",
        "!wget -O data/fashion/t10k-images-idx3-ubyte.gz http://fashion-mnist.s3-website.eu-central-1.amazonaws.com/t10k-images-idx3-ubyte.gz\n",
        "!wget -O data/fashion/t10k-labels-idx1-ubyte.gz http://fashion-mnist.s3-website.eu-central-1.amazonaws.com/t10k-labels-idx1-ubyte.gz"
      ],
      "execution_count": 1,
      "outputs": [
        {
          "output_type": "stream",
          "text": [
            "mkdir: cannot create directory ‘data’: File exists\n",
            "mkdir: cannot create directory ‘data/fashion’: File exists\n",
            "--2019-08-25 06:20:03--  http://fashion-mnist.s3-website.eu-central-1.amazonaws.com/train-images-idx3-ubyte.gz\n",
            "Resolving fashion-mnist.s3-website.eu-central-1.amazonaws.com (fashion-mnist.s3-website.eu-central-1.amazonaws.com)... 52.219.73.118\n",
            "Connecting to fashion-mnist.s3-website.eu-central-1.amazonaws.com (fashion-mnist.s3-website.eu-central-1.amazonaws.com)|52.219.73.118|:80... connected.\n",
            "HTTP request sent, awaiting response... 200 OK\n",
            "Length: 26421880 (25M) [binary/octet-stream]\n",
            "Saving to: ‘data/fashion/train-images-idx3-ubyte.gz’\n",
            "\n",
            "data/fashion/train- 100%[===================>]  25.20M  6.49MB/s    in 3.9s    \n",
            "\n",
            "2019-08-25 06:20:07 (6.49 MB/s) - ‘data/fashion/train-images-idx3-ubyte.gz’ saved [26421880/26421880]\n",
            "\n",
            "--2019-08-25 06:20:12--  http://fashion-mnist.s3-website.eu-central-1.amazonaws.com/train-labels-idx1-ubyte.gz\n",
            "Resolving fashion-mnist.s3-website.eu-central-1.amazonaws.com (fashion-mnist.s3-website.eu-central-1.amazonaws.com)... 52.219.73.142\n",
            "Connecting to fashion-mnist.s3-website.eu-central-1.amazonaws.com (fashion-mnist.s3-website.eu-central-1.amazonaws.com)|52.219.73.142|:80... connected.\n",
            "HTTP request sent, awaiting response... 200 OK\n",
            "Length: 29515 (29K) [binary/octet-stream]\n",
            "Saving to: ‘data/fashion/train-labels-idx1-ubyte.gz’\n",
            "\n",
            "data/fashion/train- 100%[===================>]  28.82K   111KB/s    in 0.3s    \n",
            "\n",
            "2019-08-25 06:20:13 (111 KB/s) - ‘data/fashion/train-labels-idx1-ubyte.gz’ saved [29515/29515]\n",
            "\n",
            "--2019-08-25 06:20:16--  http://fashion-mnist.s3-website.eu-central-1.amazonaws.com/t10k-images-idx3-ubyte.gz\n",
            "Resolving fashion-mnist.s3-website.eu-central-1.amazonaws.com (fashion-mnist.s3-website.eu-central-1.amazonaws.com)... 52.219.74.74\n",
            "Connecting to fashion-mnist.s3-website.eu-central-1.amazonaws.com (fashion-mnist.s3-website.eu-central-1.amazonaws.com)|52.219.74.74|:80... connected.\n",
            "HTTP request sent, awaiting response... 200 OK\n",
            "Length: 4422102 (4.2M) [binary/octet-stream]\n",
            "Saving to: ‘data/fashion/t10k-images-idx3-ubyte.gz’\n",
            "\n",
            "data/fashion/t10k-i 100%[===================>]   4.22M  2.02MB/s    in 2.1s    \n",
            "\n",
            "2019-08-25 06:20:18 (2.02 MB/s) - ‘data/fashion/t10k-images-idx3-ubyte.gz’ saved [4422102/4422102]\n",
            "\n",
            "--2019-08-25 06:20:20--  http://fashion-mnist.s3-website.eu-central-1.amazonaws.com/t10k-labels-idx1-ubyte.gz\n",
            "Resolving fashion-mnist.s3-website.eu-central-1.amazonaws.com (fashion-mnist.s3-website.eu-central-1.amazonaws.com)... 52.219.74.198\n",
            "Connecting to fashion-mnist.s3-website.eu-central-1.amazonaws.com (fashion-mnist.s3-website.eu-central-1.amazonaws.com)|52.219.74.198|:80... connected.\n",
            "HTTP request sent, awaiting response... 200 OK\n",
            "Length: 5148 (5.0K) [binary/octet-stream]\n",
            "Saving to: ‘data/fashion/t10k-labels-idx1-ubyte.gz’\n",
            "\n",
            "data/fashion/t10k-l 100%[===================>]   5.03K  --.-KB/s    in 0s      \n",
            "\n",
            "2019-08-25 06:20:21 (441 MB/s) - ‘data/fashion/t10k-labels-idx1-ubyte.gz’ saved [5148/5148]\n",
            "\n"
          ],
          "name": "stdout"
        }
      ]
    },
    {
      "cell_type": "markdown",
      "metadata": {
        "id": "DXIvh2D3a8Ir",
        "colab_type": "text"
      },
      "source": [
        "#Import Library dan Dataset"
      ]
    },
    {
      "cell_type": "code",
      "metadata": {
        "id": "xa7jL7M6aZ_D",
        "colab_type": "code",
        "outputId": "a0404df0-2302-4368-cef3-b8bd38cb27ff",
        "colab": {
          "base_uri": "https://localhost:8080/",
          "height": 478
        }
      },
      "source": [
        "import numpy as np # linear algebra\n",
        "import pandas as pd # data processing, CSV file I/O (e.g. pd.read_csv)\n",
        "import seaborn as sns\n",
        "import matplotlib.pyplot as plt\n",
        "import os\n",
        "\n",
        "from sklearn.metrics import confusion_matrix\n",
        "from keras.utils.np_utils import to_categorical\n",
        "from keras.models import Sequential\n",
        "from keras.layers import Dense, Dropout, Flatten, Conv2D, MaxPool2D\n",
        "from keras.optimizers import RMSprop, Adam\n",
        "from keras.preprocessing.image import ImageDataGenerator\n",
        "from keras.callbacks import ReduceLROnPlateau\n",
        "from keras.preprocessing.image import ImageDataGenerator\n",
        "from keras.utils.np_utils import to_categorical\n",
        "from tensorflow.examples.tutorials.mnist import input_data\n",
        "\n",
        "data = input_data.read_data_sets('data/fashion',one_hot=True)"
      ],
      "execution_count": 2,
      "outputs": [
        {
          "output_type": "stream",
          "text": [
            "Using TensorFlow backend.\n",
            "WARNING: Logging before flag parsing goes to stderr.\n",
            "W0825 06:20:25.848058 139967148889984 deprecation.py:323] From <ipython-input-2-8a14e1f084ae>:18: read_data_sets (from tensorflow.contrib.learn.python.learn.datasets.mnist) is deprecated and will be removed in a future version.\n",
            "Instructions for updating:\n",
            "Please use alternatives such as official/mnist/dataset.py from tensorflow/models.\n",
            "W0825 06:20:25.849266 139967148889984 deprecation.py:323] From /usr/local/lib/python3.6/dist-packages/tensorflow/contrib/learn/python/learn/datasets/mnist.py:260: maybe_download (from tensorflow.contrib.learn.python.learn.datasets.base) is deprecated and will be removed in a future version.\n",
            "Instructions for updating:\n",
            "Please write your own downloading logic.\n",
            "W0825 06:20:25.850494 139967148889984 deprecation.py:323] From /usr/local/lib/python3.6/dist-packages/tensorflow/contrib/learn/python/learn/datasets/mnist.py:262: extract_images (from tensorflow.contrib.learn.python.learn.datasets.mnist) is deprecated and will be removed in a future version.\n",
            "Instructions for updating:\n",
            "Please use tf.data to implement this functionality.\n"
          ],
          "name": "stderr"
        },
        {
          "output_type": "stream",
          "text": [
            "Extracting data/fashion/train-images-idx3-ubyte.gz\n"
          ],
          "name": "stdout"
        },
        {
          "output_type": "stream",
          "text": [
            "W0825 06:20:26.182857 139967148889984 deprecation.py:323] From /usr/local/lib/python3.6/dist-packages/tensorflow/contrib/learn/python/learn/datasets/mnist.py:267: extract_labels (from tensorflow.contrib.learn.python.learn.datasets.mnist) is deprecated and will be removed in a future version.\n",
            "Instructions for updating:\n",
            "Please use tf.data to implement this functionality.\n",
            "W0825 06:20:26.186133 139967148889984 deprecation.py:323] From /usr/local/lib/python3.6/dist-packages/tensorflow/contrib/learn/python/learn/datasets/mnist.py:110: dense_to_one_hot (from tensorflow.contrib.learn.python.learn.datasets.mnist) is deprecated and will be removed in a future version.\n",
            "Instructions for updating:\n",
            "Please use tf.one_hot on tensors.\n",
            "W0825 06:20:26.252104 139967148889984 deprecation.py:323] From /usr/local/lib/python3.6/dist-packages/tensorflow/contrib/learn/python/learn/datasets/mnist.py:290: DataSet.__init__ (from tensorflow.contrib.learn.python.learn.datasets.mnist) is deprecated and will be removed in a future version.\n",
            "Instructions for updating:\n",
            "Please use alternatives such as official/mnist/dataset.py from tensorflow/models.\n"
          ],
          "name": "stderr"
        },
        {
          "output_type": "stream",
          "text": [
            "Extracting data/fashion/train-labels-idx1-ubyte.gz\n",
            "Extracting data/fashion/t10k-images-idx3-ubyte.gz\n",
            "Extracting data/fashion/t10k-labels-idx1-ubyte.gz\n"
          ],
          "name": "stdout"
        }
      ]
    },
    {
      "cell_type": "markdown",
      "metadata": {
        "id": "Nf3srBbIbW4z",
        "colab_type": "text"
      },
      "source": [
        "#Mempersiapkan Data"
      ]
    },
    {
      "cell_type": "code",
      "metadata": {
        "id": "AYmQ7gVQbVm5",
        "colab_type": "code",
        "outputId": "7f651a46-c1e0-4f82-c3f8-c8de1ae0c247",
        "colab": {
          "base_uri": "https://localhost:8080/",
          "height": 127
        }
      },
      "source": [
        "# Mengecek Bentuk Data Training\n",
        "print(\"Training set (images) shape: {shape}\".format(shape=data.train.images.shape))\n",
        "print(\"Training set (labels) shape: {shape}\".format(shape=data.train.labels.shape))\n",
        "\n",
        "# Mengecek Bentuk Data Testing\n",
        "print(\"Test set (images) shape: {shape}\".format(shape=data.test.images.shape))\n",
        "print(\"Test set (labels) shape: {shape}\".format(shape=data.test.labels.shape))\n",
        "\n",
        "#Validation\n",
        "print (\"Validation set (images) shape : {shape}\".format(shape=data.validation.images.shape))\n",
        "print (\"Validation set (images) shape : {shape}\".format(shape=data.validation.labels.shape))"
      ],
      "execution_count": 3,
      "outputs": [
        {
          "output_type": "stream",
          "text": [
            "Training set (images) shape: (55000, 784)\n",
            "Training set (labels) shape: (55000, 10)\n",
            "Test set (images) shape: (10000, 784)\n",
            "Test set (labels) shape: (10000, 10)\n",
            "Validation set (images) shape : (5000, 784)\n",
            "Validation set (images) shape : (5000, 10)\n"
          ],
          "name": "stdout"
        }
      ]
    },
    {
      "cell_type": "code",
      "metadata": {
        "id": "njiQPCNDbyp6",
        "colab_type": "code",
        "colab": {}
      },
      "source": [
        "# Membuat Label berupa Dictionary \n",
        "label_dict = {\n",
        " 0: 'T-shirt/top',\n",
        " 1: 'Trouser',\n",
        " 2: 'Pullover',\n",
        " 3: 'Dress',\n",
        " 4: 'Coat',\n",
        " 5: 'Sandal',\n",
        " 6: 'Shirt',\n",
        " 7: 'Sneaker',\n",
        " 8: 'Bag',\n",
        " 9: 'Ankle boot',\n",
        "}"
      ],
      "execution_count": 0,
      "outputs": []
    },
    {
      "cell_type": "code",
      "metadata": {
        "id": "Sa1sHj2yb8IC",
        "colab_type": "code",
        "outputId": "469225d7-7acd-4e2a-9d1d-4ff14ba3d702",
        "colab": {
          "base_uri": "https://localhost:8080/",
          "height": 209
        }
      },
      "source": [
        "plt.figure(figsize=[5,5])\n",
        "\n",
        "# Menampiilkan Data pertama pada data training\n",
        "plt.subplot(121)\n",
        "curr_img = np.reshape(data.train.images[0], (28,28))\n",
        "curr_lbl = np.argmax(data.train.labels[0,:])\n",
        "plt.imshow(curr_img, cmap='gray')\n",
        "plt.title(\"(Label: \" + str(label_dict[curr_lbl]) + \")\")\n",
        "\n",
        "# DMenampiilkan Data pertama pada data testing\n",
        "plt.subplot(122)\n",
        "curr_img = np.reshape(data.test.images[0], (28,28))\n",
        "curr_lbl = np.argmax(data.test.labels[0,:])\n",
        "plt.imshow(curr_img, cmap='gray')\n",
        "plt.title(\"(Label: \" + str(label_dict[curr_lbl]) + \")\")"
      ],
      "execution_count": 5,
      "outputs": [
        {
          "output_type": "execute_result",
          "data": {
            "text/plain": [
              "Text(0.5, 1.0, '(Label: Ankle boot)')"
            ]
          },
          "metadata": {
            "tags": []
          },
          "execution_count": 5
        },
        {
          "output_type": "display_data",
          "data": {
            "image/png": "[encoded data removed]",
            "text/plain": [
              "<Figure size 360x360 with 2 Axes>"
            ]
          },
          "metadata": {
            "tags": []
          }
        }
      ]
    },
    {
      "cell_type": "markdown",
      "metadata": {
        "id": "MGGxBvsZeW31",
        "colab_type": "text"
      },
      "source": [
        "#Menganilisis Data"
      ]
    },
    {
      "cell_type": "markdown",
      "metadata": {
        "id": "2Qr1QS0Oeern",
        "colab_type": "text"
      },
      "source": [
        "memastikan apakah data yang terdapat dalam file sudah bernilai dalam rentan 0 hingga 1"
      ]
    },
    {
      "cell_type": "code",
      "metadata": {
        "id": "28CJJpLceVo-",
        "colab_type": "code",
        "colab": {}
      },
      "source": [
        ""
      ],
      "execution_count": 0,
      "outputs": []
    },
    {
      "cell_type": "code",
      "metadata": {
        "id": "cfDXz0AIgUpY",
        "colab_type": "code",
        "outputId": "c4f051ef-7b26-4959-f665-9165755841d1",
        "colab": {
          "base_uri": "https://localhost:8080/",
          "height": 1000
        }
      },
      "source": [
        "data.train.images[0]"
      ],
      "execution_count": 6,
      "outputs": [
        {
          "output_type": "execute_result",
          "data": {
            "text/plain": [
              "array([0.        , 0.        , 0.        , 0.        , 0.        ,\n",
              "       0.        , 0.        , 0.        , 0.        , 0.        ,\n",
              "       0.        , 0.        , 0.        , 0.        , 0.        ,\n",
              "       0.        , 0.        , 0.        , 0.        , 0.00392157,\n",
              "       0.        , 0.        , 0.        , 0.        , 0.        ,\n",
              "       0.        , 0.        , 0.        , 0.        , 0.        ,\n",
              "       0.        , 0.        , 0.        , 0.        , 0.        ,\n",
              "       0.        , 0.        , 0.        , 0.        , 0.17254902,\n",
              "       0.49803925, 0.7137255 , 0.7254902 , 0.6313726 , 0.47058827,\n",
              "       0.21568629, 0.        , 0.        , 0.        , 0.        ,\n",
              "       0.        , 0.        , 0.        , 0.        , 0.        ,\n",
              "       0.        , 0.        , 0.        , 0.        , 0.        ,\n",
              "       0.        , 0.        , 0.        , 0.        , 0.        ,\n",
              "       0.16470589, 0.77647066, 0.9843138 , 1.        , 0.9843138 ,\n",
              "       0.97647065, 0.9686275 , 1.        , 0.98823535, 0.83921576,\n",
              "       0.3921569 , 0.        , 0.        , 0.        , 0.        ,\n",
              "       0.        , 0.        , 0.        , 0.        , 0.        ,\n",
              "       0.        , 0.        , 0.        , 0.        , 0.        ,\n",
              "       0.00784314, 0.        , 0.        , 0.91372555, 0.98823535,\n",
              "       0.9294118 , 0.93725497, 0.9176471 , 0.9294118 , 0.9215687 ,\n",
              "       0.9294118 , 0.9294118 , 0.9960785 , 0.89019614, 0.        ,\n",
              "       0.        , 0.        , 0.        , 0.00392157, 0.        ,\n",
              "       0.        , 0.        , 0.        , 0.        , 0.        ,\n",
              "       0.        , 0.        , 0.00784314, 0.        , 0.        ,\n",
              "       0.0627451 , 0.8235295 , 0.882353  , 0.8431373 , 0.6862745 ,\n",
              "       0.85098046, 0.8470589 , 0.7568628 , 0.7686275 , 0.8862746 ,\n",
              "       0.86666673, 0.8196079 , 0.19607845, 0.        , 0.        ,\n",
              "       0.00784314, 0.        , 0.        , 0.        , 0.        ,\n",
              "       0.        , 0.        , 0.        , 0.        , 0.00784314,\n",
              "       0.        , 0.        , 0.7803922 , 0.8980393 , 0.909804  ,\n",
              "       0.90196085, 0.9607844 , 0.8000001 , 0.8588236 , 0.9921569 ,\n",
              "       0.9607844 , 0.8117648 , 0.7607844 , 0.8745099 , 0.9058824 ,\n",
              "       0.92549026, 0.9215687 , 0.        , 0.        , 0.01176471,\n",
              "       0.        , 0.        , 0.        , 0.        , 0.        ,\n",
              "       0.        , 0.        , 0.00392157, 0.        , 0.5372549 ,\n",
              "       0.9215687 , 0.8000001 , 0.8196079 , 0.78823537, 0.8196079 ,\n",
              "       0.9176471 , 0.74509805, 0.9176471 , 0.854902  , 0.8431373 ,\n",
              "       0.9333334 , 0.93725497, 0.8000001 , 0.7411765 , 0.87843144,\n",
              "       0.6039216 , 0.        , 0.        , 0.        , 0.        ,\n",
              "       0.        , 0.        , 0.        , 0.        , 0.        ,\n",
              "       0.        , 0.        , 0.7607844 , 0.78823537, 0.7843138 ,\n",
              "       0.8196079 , 0.79215693, 0.7568628 , 0.80392164, 0.7607844 ,\n",
              "       0.7176471 , 0.854902  , 0.9058824 , 0.7725491 , 0.6745098 ,\n",
              "       0.70980394, 0.7568628 , 0.80392164, 0.7803922 , 0.        ,\n",
              "       0.        , 0.        , 0.        , 0.        , 0.        ,\n",
              "       0.        , 0.        , 0.        , 0.        , 0.01176471,\n",
              "       0.8313726 , 0.7960785 , 0.7372549 , 0.7411765 , 0.7686275 ,\n",
              "       0.77647066, 0.77647066, 0.78823537, 0.7686275 , 0.85098046,\n",
              "       0.7019608 , 0.654902  , 0.7176471 , 0.85098046, 0.7725491 ,\n",
              "       0.79215693, 0.8588236 , 0.11764707, 0.        , 0.        ,\n",
              "       0.        , 0.        , 0.        , 0.        , 0.        ,\n",
              "       0.        , 0.        , 0.13333334, 0.882353  , 0.7843138 ,\n",
              "       0.7607844 , 0.74509805, 0.7372549 , 0.75294125, 0.7686275 ,\n",
              "       0.75294125, 0.6666667 , 0.79215693, 0.74509805, 0.78823537,\n",
              "       0.76470596, 0.7843138 , 0.78823537, 0.8196079 , 0.89019614,\n",
              "       0.19607845, 0.        , 0.        , 0.        , 0.        ,\n",
              "       0.        , 0.        , 0.        , 0.        , 0.        ,\n",
              "       0.26666668, 0.882353  , 0.8235295 , 0.82745105, 0.77647066,\n",
              "       0.75294125, 0.7686275 , 0.8000001 , 0.7686275 , 0.70980394,\n",
              "       0.8313726 , 0.7725491 , 0.76470596, 0.75294125, 0.8078432 ,\n",
              "       0.86274517, 0.8235295 , 0.8980393 , 0.3647059 , 0.        ,\n",
              "       0.        , 0.        , 0.        , 0.        , 0.        ,\n",
              "       0.        , 0.        , 0.        , 0.43529415, 0.8745099 ,\n",
              "       0.89019614, 0.9921569 , 0.8196079 , 0.7686275 , 0.8000001 ,\n",
              "       0.82745105, 0.8078432 , 0.7176471 , 0.8470589 , 0.8078432 ,\n",
              "       0.8235295 , 0.7960785 , 0.8431373 , 0.9568628 , 0.87843144,\n",
              "       0.89019614, 0.5882353 , 0.        , 0.        , 0.        ,\n",
              "       0.        , 0.        , 0.        , 0.        , 0.        ,\n",
              "       0.        , 0.54509807, 0.882353  , 0.87843144, 1.        ,\n",
              "       0.79215693, 0.8078432 , 0.8313726 , 0.8196079 , 0.82745105,\n",
              "       0.74509805, 0.8352942 , 0.79215693, 0.8117648 , 0.8078432 ,\n",
              "       0.8705883 , 1.        , 0.90196085, 0.86274517, 0.74509805,\n",
              "       0.        , 0.        , 0.        , 0.        , 0.        ,\n",
              "       0.        , 0.        , 0.        , 0.        , 0.7058824 ,\n",
              "       0.8862746 , 0.87843144, 1.        , 0.7803922 , 0.8000001 ,\n",
              "       0.8117648 , 0.83921576, 0.83921576, 0.74509805, 0.8470589 ,\n",
              "       0.8078432 , 0.7960785 , 0.80392164, 0.8588236 , 0.95294124,\n",
              "       0.87843144, 0.83921576, 0.9176471 , 0.        , 0.        ,\n",
              "       0.        , 0.        , 0.        , 0.        , 0.        ,\n",
              "       0.        , 0.        , 0.882353  , 0.8745099 , 0.8941177 ,\n",
              "       0.9960785 , 0.8196079 , 0.8078432 , 0.81568635, 0.8352942 ,\n",
              "       0.8235295 , 0.7490196 , 0.8431373 , 0.8117648 , 0.8000001 ,\n",
              "       0.81568635, 0.82745105, 0.97647065, 0.8862746 , 0.83921576,\n",
              "       1.        , 0.14901961, 0.        , 0.        , 0.        ,\n",
              "       0.        , 0.        , 0.        , 0.        , 0.        ,\n",
              "       0.9803922 , 0.909804  , 0.94117653, 0.93725497, 0.82745105,\n",
              "       0.7960785 , 0.8196079 , 0.80392164, 0.82745105, 0.7725491 ,\n",
              "       0.8431373 , 0.81568635, 0.81568635, 0.83921576, 0.8352942 ,\n",
              "       0.93725497, 0.9058824 , 0.8588236 , 1.        , 0.31764707,\n",
              "       0.        , 0.        , 0.        , 0.        , 0.        ,\n",
              "       0.        , 0.        , 0.        , 0.9725491 , 0.92549026,\n",
              "       0.9686275 , 0.94117653, 0.7960785 , 0.7843138 , 0.81568635,\n",
              "       0.8078432 , 0.83921576, 0.7568628 , 0.8352942 , 0.8313726 ,\n",
              "       0.81568635, 0.8313726 , 0.82745105, 0.95294124, 0.9490197 ,\n",
              "       0.882353  , 0.9960785 , 0.25882354, 0.        , 0.        ,\n",
              "       0.        , 0.        , 0.        , 0.        , 0.        ,\n",
              "       0.        , 0.9686275 , 0.90196085, 0.98823535, 0.8862746 ,\n",
              "       0.7803922 , 0.82745105, 0.79215693, 0.82745105, 0.8352942 ,\n",
              "       0.7137255 , 0.8352942 , 0.8313726 , 0.8078432 , 0.79215693,\n",
              "       0.8588236 , 0.8117648 , 0.9686275 , 0.8705883 , 0.9294118 ,\n",
              "       0.40784317, 0.        , 0.        , 0.        , 0.        ,\n",
              "       0.        , 0.        , 0.        , 0.03921569, 0.9568628 ,\n",
              "       0.8588236 , 0.9803922 , 0.80392164, 0.7803922 , 0.8196079 ,\n",
              "       0.79215693, 0.8196079 , 0.82745105, 0.7411765 , 0.83921576,\n",
              "       0.8078432 , 0.8235295 , 0.7843138 , 0.8313726 , 0.6039216 ,\n",
              "       0.94117653, 0.81568635, 0.8588236 , 0.54901963, 0.        ,\n",
              "       0.        , 0.        , 0.        , 0.        , 0.        ,\n",
              "       0.        , 0.08235294, 1.        , 0.8705883 , 0.9333334 ,\n",
              "       0.72156864, 0.8235295 , 0.75294125, 0.8078432 , 0.8196079 ,\n",
              "       0.8235295 , 0.7411765 , 0.8352942 , 0.82745105, 0.8196079 ,\n",
              "       0.75294125, 0.8941177 , 0.60784316, 0.8862746 , 0.9333334 ,\n",
              "       0.9450981 , 0.6509804 , 0.        , 0.        , 0.        ,\n",
              "       0.        , 0.        , 0.        , 0.        , 0.14509805,\n",
              "       0.9607844 , 0.8862746 , 0.9450981 , 0.5882353 , 0.7725491 ,\n",
              "       0.7411765 , 0.8000001 , 0.8196079 , 0.8235295 , 0.7176471 ,\n",
              "       0.8352942 , 0.8352942 , 0.78823537, 0.72156864, 0.8431373 ,\n",
              "       0.57254905, 0.8470589 , 0.92549026, 0.882353  , 0.6039216 ,\n",
              "       0.        , 0.        , 0.        , 0.        , 0.        ,\n",
              "       0.        , 0.        , 0.227451  , 0.93725497, 0.89019614,\n",
              "       1.        , 0.61960787, 0.7568628 , 0.76470596, 0.8000001 ,\n",
              "       0.8196079 , 0.8352942 , 0.7058824 , 0.8117648 , 0.85098046,\n",
              "       0.7803922 , 0.7607844 , 0.82745105, 0.61960787, 0.8588236 ,\n",
              "       0.92549026, 0.8470589 , 0.5921569 , 0.        , 0.        ,\n",
              "       0.        , 0.        , 0.        , 0.        , 0.        ,\n",
              "       0.26666668, 0.91372555, 0.8862746 , 0.95294124, 0.54509807,\n",
              "       0.7843138 , 0.7568628 , 0.80392164, 0.8235295 , 0.81568635,\n",
              "       0.7058824 , 0.80392164, 0.8313726 , 0.7960785 , 0.7686275 ,\n",
              "       0.8470589 , 0.6156863 , 0.7019608 , 1.        , 0.8470589 ,\n",
              "       0.60784316, 0.        , 0.        , 0.        , 0.        ,\n",
              "       0.        , 0.        , 0.        , 0.31764707, 0.882353  ,\n",
              "       0.87843144, 0.82745105, 0.5411765 , 0.8588236 , 0.7254902 ,\n",
              "       0.78823537, 0.8352942 , 0.8117648 , 0.7725491 , 0.8862746 ,\n",
              "       0.8313726 , 0.7843138 , 0.74509805, 0.8431373 , 0.7176471 ,\n",
              "       0.3529412 , 1.        , 0.82745105, 0.5764706 , 0.        ,\n",
              "       0.        , 0.        , 0.        , 0.        , 0.        ,\n",
              "       0.        , 0.35686275, 0.8235295 , 0.90196085, 0.61960787,\n",
              "       0.44705886, 0.80392164, 0.73333335, 0.81568635, 0.8196079 ,\n",
              "       0.8078432 , 0.7568628 , 0.8235295 , 0.82745105, 0.8000001 ,\n",
              "       0.76470596, 0.8000001 , 0.70980394, 0.09019608, 1.        ,\n",
              "       0.8352942 , 0.61960787, 0.        , 0.        , 0.        ,\n",
              "       0.        , 0.        , 0.        , 0.        , 0.34117648,\n",
              "       0.80392164, 0.909804  , 0.427451  , 0.6431373 , 1.        ,\n",
              "       0.83921576, 0.87843144, 0.8705883 , 0.8235295 , 0.7725491 ,\n",
              "       0.83921576, 0.882353  , 0.8705883 , 0.82745105, 0.86274517,\n",
              "       0.85098046, 0.        , 0.9176471 , 0.8470589 , 0.6627451 ,\n",
              "       0.        , 0.        , 0.        , 0.        , 0.        ,\n",
              "       0.        , 0.        , 0.36078432, 0.8352942 , 0.909804  ,\n",
              "       0.57254905, 0.01960784, 0.5254902 , 0.5921569 , 0.63529414,\n",
              "       0.6666667 , 0.7176471 , 0.7137255 , 0.6431373 , 0.6509804 ,\n",
              "       0.69803923, 0.63529414, 0.6117647 , 0.38431376, 0.        ,\n",
              "       0.94117653, 0.882353  , 0.8235295 , 0.        , 0.        ,\n",
              "       0.        , 0.        , 0.        , 0.        , 0.        ,\n",
              "       0.16862746, 0.6431373 , 0.8078432 , 0.5529412 , 0.        ,\n",
              "       0.        , 0.        , 0.        , 0.        , 0.        ,\n",
              "       0.        , 0.        , 0.        , 0.        , 0.        ,\n",
              "       0.        , 0.        , 0.        , 0.49803925, 0.4901961 ,\n",
              "       0.29803923, 0.        , 0.        , 0.        ], dtype=float32)"
            ]
          },
          "metadata": {
            "tags": []
          },
          "execution_count": 6
        }
      ]
    },
    {
      "cell_type": "code",
      "metadata": {
        "id": "0iWoXkM4dgbN",
        "colab_type": "code",
        "colab": {
          "base_uri": "https://localhost:8080/",
          "height": 35
        },
        "outputId": "cc30b2e1-6607-4e05-bdc9-e9ea5cf3514e"
      },
      "source": [
        "#Mengecek Batas Minimum Nilai\n",
        "np.min(data.train.images[0])"
      ],
      "execution_count": 7,
      "outputs": [
        {
          "output_type": "execute_result",
          "data": {
            "text/plain": [
              "0.0"
            ]
          },
          "metadata": {
            "tags": []
          },
          "execution_count": 7
        }
      ]
    },
    {
      "cell_type": "code",
      "metadata": {
        "id": "YkS4sqIHdg-2",
        "colab_type": "code",
        "colab": {
          "base_uri": "https://localhost:8080/",
          "height": 35
        },
        "outputId": "0550a9b0-b2e5-48fe-a825-58b51c63b6cf"
      },
      "source": [
        "#Mengecek Batas Maximum Nilai\n",
        "np.max(data.train.images[0])"
      ],
      "execution_count": 8,
      "outputs": [
        {
          "output_type": "execute_result",
          "data": {
            "text/plain": [
              "1.0"
            ]
          },
          "metadata": {
            "tags": []
          },
          "execution_count": 8
        }
      ]
    },
    {
      "cell_type": "markdown",
      "metadata": {
        "id": "JcBeE6oufQmb",
        "colab_type": "text"
      },
      "source": [
        "Setelah Memastikan bahwa sudah berada pada rentang 0 dan 1 maka selanjutnya, kita lakukan reshape dimana dimensinya adalah 28 X 28 X 1, yang 28 X 28 adalah pixelnya dan 1 mewakili warnanya yaitu gray."
      ]
    },
    {
      "cell_type": "code",
      "metadata": {
        "id": "kgwQ5FKddqJ2",
        "colab_type": "code",
        "colab": {}
      },
      "source": [
        "# Reshape training and testing image for input\n",
        "x_train = data.train.images.reshape(-1, 28, 28, 1)\n",
        "X_test = data.test.images.reshape(-1,28,28,1)\n",
        "x_val = data.validation.images.reshape(-1,28,28,1)"
      ],
      "execution_count": 0,
      "outputs": []
    },
    {
      "cell_type": "code",
      "metadata": {
        "id": "xgqE7P_lfzSX",
        "colab_type": "code",
        "colab": {
          "base_uri": "https://localhost:8080/",
          "height": 35
        },
        "outputId": "6946a206-4c62-4b32-9cb5-3db1d09ad02c"
      },
      "source": [
        "# Menampilkan Hasil Reshape input\n",
        "x_train.shape, X_test.shape, x_val.shape"
      ],
      "execution_count": 10,
      "outputs": [
        {
          "output_type": "execute_result",
          "data": {
            "text/plain": [
              "((55000, 28, 28, 1), (10000, 28, 28, 1), (5000, 28, 28, 1))"
            ]
          },
          "metadata": {
            "tags": []
          },
          "execution_count": 10
        }
      ]
    },
    {
      "cell_type": "code",
      "metadata": {
        "id": "Rw24Zpguf3iZ",
        "colab_type": "code",
        "colab": {}
      },
      "source": [
        "# Reshape training and testing image for output\n",
        "y_train = data.train.labels\n",
        "Y_test = data.test.labels\n",
        "y_val = data.validation.labels"
      ],
      "execution_count": 0,
      "outputs": []
    },
    {
      "cell_type": "code",
      "metadata": {
        "id": "p4ntQOF2gAKc",
        "colab_type": "code",
        "colab": {
          "base_uri": "https://localhost:8080/",
          "height": 35
        },
        "outputId": "a160b5b7-2527-43ed-a666-d4d6e799f7e8"
      },
      "source": [
        "# Menampilkan Hasil Reshape output\n",
        "y_train.shape, Y_test.shape, y_val.shape"
      ],
      "execution_count": 13,
      "outputs": [
        {
          "output_type": "execute_result",
          "data": {
            "text/plain": [
              "((55000, 10), (10000, 10), (5000, 10))"
            ]
          },
          "metadata": {
            "tags": []
          },
          "execution_count": 13
        }
      ]
    },
    {
      "cell_type": "code",
      "metadata": {
        "id": "BUFCQ3xVkZ2z",
        "colab_type": "code",
        "colab": {
          "base_uri": "https://localhost:8080/",
          "height": 90
        },
        "outputId": "033ae511-b463-4649-a003-b9c11ff898d3"
      },
      "source": [
        "print(\"x_train shape\",x_train.shape)\n",
        "print(\"x_val shape\",x_val.shape)\n",
        "print(\"y_train shape\",y_train.shape)\n",
        "print(\"y_val shape\",y_val.shape)"
      ],
      "execution_count": 14,
      "outputs": [
        {
          "output_type": "stream",
          "text": [
            "x_train shape (55000, 28, 28, 1)\n",
            "x_val shape (5000, 28, 28, 1)\n",
            "y_train shape (55000, 10)\n",
            "y_val shape (5000, 10)\n"
          ],
          "name": "stdout"
        }
      ]
    },
    {
      "cell_type": "markdown",
      "metadata": {
        "id": "5WWRysIlgQxM",
        "colab_type": "text"
      },
      "source": [
        "# Membangun Model Deep Learning CNN"
      ]
    },
    {
      "cell_type": "markdown",
      "metadata": {
        "id": "xO6CwsIBkvGn",
        "colab_type": "text"
      },
      "source": [
        "\n",
        "Modelling CNN\n",
        "\n",
        "Kita tentukan untuk CNN model yang kita buat\n",
        "\n",
        "    Layer 1:\n",
        "        image size: 28 x 28\n",
        "        image color: 1 = Black\n",
        "        Functino: ReLU\n",
        "        Kernel size: 3 x 3\n",
        "        Filter size: 32\n",
        "        Max Pooling 2 x 2\n",
        "        Padding: Same\n",
        "\n",
        "    Layer 2:\n",
        "        Functino: ReLU\n",
        "        Kernel size: 3 x 3\n",
        "        Filter size: 64\n",
        "        Max Pooling 2 x 2\n",
        "        Padding: Same\n",
        "\n",
        "    Layer 3:\n",
        "        Functino: ReLU\n",
        "        Kernel size: 3 x 3\n",
        "        Filter size: 128\n",
        "        Max Pooling 2 x 2\n",
        "        Padding: Same\n",
        "\n"
      ]
    },
    {
      "cell_type": "code",
      "metadata": {
        "id": "FKQtCd6EktpJ",
        "colab_type": "code",
        "colab": {
          "base_uri": "https://localhost:8080/",
          "height": 276
        },
        "outputId": "9fa84f22-1e55-4a6c-cc27-f16235ae9f90"
      },
      "source": [
        "#Membuat model CNN dari library Sequential\n",
        "CNNmodel = Sequential()\n",
        "\n",
        "# Conv + Maxpool\n",
        "CNNmodel.add(Conv2D(filters = 32, kernel_size = (3,3), padding = 'Same', activation='relu', input_shape=(28,28,1)))\n",
        "CNNmodel.add(MaxPool2D(pool_size = (2,2)))\n",
        "\n",
        "# Dropout\n",
        "CNNmodel.add(Dropout(0.25))\n",
        "\n",
        "# Conv + Maxpool\n",
        "CNNmodel.add(Conv2D(filters = 64, kernel_size = (3,3),padding = 'Same', activation ='relu'))\n",
        "CNNmodel.add(MaxPool2D(pool_size=(2,2)))\n",
        "\n",
        "# Dropout \n",
        "CNNmodel.add(Dropout(0.25))\n",
        "\n",
        "# Conv + Maxpool\n",
        "CNNmodel.add(Conv2D(filters = 128, kernel_size = (3,3),padding = 'Same', activation ='relu'))\n",
        "CNNmodel.add(MaxPool2D(pool_size=(2,2)))\n",
        "\n",
        "# Dropout\n",
        "CNNmodel.add(Dropout(0.25))\n",
        "\n",
        "# Flatten 3D Feature Vector into 1D array\n",
        "CNNmodel.add(Flatten())\n",
        "\n",
        "# Fully Connected Layer\n",
        "CNNmodel.add(Dense(256, activation='relu'))\n",
        "CNNmodel.add(Dropout(0.25))\n",
        "CNNmodel.add(Dense(256, activation='relu'))\n",
        "CNNmodel.add(Dropout(0.1))\n",
        "CNNmodel.add(Dense(10, activation='softmax'))\n",
        "\n",
        "#Adam Optimizer\n",
        "optimizer = Adam(lr=0.001, beta_1=0.9, beta_2=0.999, epsilon=None, decay=0.0, amsgrad=False)"
      ],
      "execution_count": 15,
      "outputs": [
        {
          "output_type": "stream",
          "text": [
            "W0825 06:27:30.824716 139967148889984 deprecation_wrapper.py:119] From /usr/local/lib/python3.6/dist-packages/keras/backend/tensorflow_backend.py:74: The name tf.get_default_graph is deprecated. Please use tf.compat.v1.get_default_graph instead.\n",
            "\n",
            "W0825 06:27:30.827694 139967148889984 deprecation_wrapper.py:119] From /usr/local/lib/python3.6/dist-packages/keras/backend/tensorflow_backend.py:517: The name tf.placeholder is deprecated. Please use tf.compat.v1.placeholder instead.\n",
            "\n",
            "W0825 06:27:30.835095 139967148889984 deprecation_wrapper.py:119] From /usr/local/lib/python3.6/dist-packages/keras/backend/tensorflow_backend.py:4138: The name tf.random_uniform is deprecated. Please use tf.random.uniform instead.\n",
            "\n",
            "W0825 06:27:30.979225 139967148889984 deprecation_wrapper.py:119] From /usr/local/lib/python3.6/dist-packages/keras/backend/tensorflow_backend.py:3976: The name tf.nn.max_pool is deprecated. Please use tf.nn.max_pool2d instead.\n",
            "\n",
            "W0825 06:27:30.982548 139967148889984 deprecation_wrapper.py:119] From /usr/local/lib/python3.6/dist-packages/keras/backend/tensorflow_backend.py:133: The name tf.placeholder_with_default is deprecated. Please use tf.compat.v1.placeholder_with_default instead.\n",
            "\n",
            "W0825 06:27:30.992483 139967148889984 deprecation.py:506] From /usr/local/lib/python3.6/dist-packages/keras/backend/tensorflow_backend.py:3445: calling dropout (from tensorflow.python.ops.nn_ops) with keep_prob is deprecated and will be removed in a future version.\n",
            "Instructions for updating:\n",
            "Please use `rate` instead of `keep_prob`. Rate should be set to `rate = 1 - keep_prob`.\n"
          ],
          "name": "stderr"
        }
      ]
    },
    {
      "cell_type": "code",
      "metadata": {
        "id": "FvcKvGlkgKK7",
        "colab_type": "code",
        "colab": {
          "base_uri": "https://localhost:8080/",
          "height": 110
        },
        "outputId": "2881ac11-f684-465e-da7f-4890e25ef509"
      },
      "source": [
        "# Compile the Model\n",
        "CNNmodel.compile(optimizer = optimizer, loss = 'categorical_crossentropy', metrics=['accuracy'])"
      ],
      "execution_count": 16,
      "outputs": [
        {
          "output_type": "stream",
          "text": [
            "W0825 06:27:37.562812 139967148889984 deprecation_wrapper.py:119] From /usr/local/lib/python3.6/dist-packages/keras/optimizers.py:790: The name tf.train.Optimizer is deprecated. Please use tf.compat.v1.train.Optimizer instead.\n",
            "\n",
            "W0825 06:27:37.580107 139967148889984 deprecation_wrapper.py:119] From /usr/local/lib/python3.6/dist-packages/keras/backend/tensorflow_backend.py:3295: The name tf.log is deprecated. Please use tf.math.log instead.\n",
            "\n"
          ],
          "name": "stderr"
        }
      ]
    },
    {
      "cell_type": "code",
      "metadata": {
        "id": "BrelnyyLgdRf",
        "colab_type": "code",
        "colab": {}
      },
      "source": [
        "#Menentukan Epoch dan Batch Size \n",
        "\n",
        "epochs = 50\n",
        "batchSize = 500"
      ],
      "execution_count": 0,
      "outputs": []
    },
    {
      "cell_type": "markdown",
      "metadata": {
        "id": "kzsW8ddKpp8X",
        "colab_type": "text"
      },
      "source": [
        "Meningkatkan jumlah epoch akan meningkatkan akurasi model, meskipun itu akan memakan waktu yang cukup lama untuk menjalankan semuanya"
      ]
    },
    {
      "cell_type": "code",
      "metadata": {
        "id": "xCq91YQ4lTKH",
        "colab_type": "code",
        "colab": {
          "base_uri": "https://localhost:8080/",
          "height": 1000
        },
        "outputId": "fa5772e1-0f75-440e-bd5f-faf5cb59f076"
      },
      "source": [
        "datagen = ImageDataGenerator(vertical_flip=True, # Some images may be flipped vertically\n",
        "                             horizontal_flip=False,\n",
        "                             height_shift_range=0.1, # Some images may be shifted vertically\n",
        "                             width_shift_range=0.1, # Some images may be shifted horizontally\n",
        "                             rotation_range=30, # Some images may be augmented through rotation, up to 45 degrees\n",
        "                             zoom_range=0.1)\n",
        "\n",
        "\n",
        "CNN = CNNmodel.fit_generator(datagen.flow(x_train, y_train, batch_size=batchSize), epochs=epochs, validation_data=(x_val, y_val), steps_per_epoch=x_train.shape[0] // batchSize)"
      ],
      "execution_count": 18,
      "outputs": [
        {
          "output_type": "stream",
          "text": [
            "W0825 06:27:47.076359 139967148889984 deprecation.py:323] From /usr/local/lib/python3.6/dist-packages/tensorflow/python/ops/math_grad.py:1250: add_dispatch_support.<locals>.wrapper (from tensorflow.python.ops.array_ops) is deprecated and will be removed in a future version.\n",
            "Instructions for updating:\n",
            "Use tf.where in 2.0, which has the same broadcast rule as np.where\n"
          ],
          "name": "stderr"
        },
        {
          "output_type": "stream",
          "text": [
            "Epoch 1/50\n",
            "110/110 [==============================] - 16s 146ms/step - loss: 1.2745 - acc: 0.5069 - val_loss: 0.8105 - val_acc: 0.6802\n",
            "Epoch 2/50\n",
            "110/110 [==============================] - 15s 135ms/step - loss: 0.8483 - acc: 0.6747 - val_loss: 0.6841 - val_acc: 0.7244\n",
            "Epoch 3/50\n",
            "110/110 [==============================] - 15s 135ms/step - loss: 0.7542 - acc: 0.7096 - val_loss: 0.6154 - val_acc: 0.7530\n",
            "Epoch 4/50\n",
            "110/110 [==============================] - 15s 134ms/step - loss: 0.7018 - acc: 0.7304 - val_loss: 0.5714 - val_acc: 0.7728\n",
            "Epoch 5/50\n",
            "110/110 [==============================] - 15s 134ms/step - loss: 0.6596 - acc: 0.7474 - val_loss: 0.5199 - val_acc: 0.7914\n",
            "Epoch 6/50\n",
            "110/110 [==============================] - 15s 134ms/step - loss: 0.6308 - acc: 0.7581 - val_loss: 0.4735 - val_acc: 0.8228\n",
            "Epoch 7/50\n",
            "110/110 [==============================] - 15s 135ms/step - loss: 0.6033 - acc: 0.7706 - val_loss: 0.4744 - val_acc: 0.8154\n",
            "Epoch 8/50\n",
            "110/110 [==============================] - 15s 136ms/step - loss: 0.5856 - acc: 0.7781 - val_loss: 0.4671 - val_acc: 0.8224\n",
            "Epoch 9/50\n",
            "110/110 [==============================] - 15s 134ms/step - loss: 0.5631 - acc: 0.7876 - val_loss: 0.4634 - val_acc: 0.8202\n",
            "Epoch 10/50\n",
            "110/110 [==============================] - 15s 135ms/step - loss: 0.5474 - acc: 0.7946 - val_loss: 0.4634 - val_acc: 0.8278\n",
            "Epoch 11/50\n",
            "110/110 [==============================] - 15s 135ms/step - loss: 0.5386 - acc: 0.7969 - val_loss: 0.3977 - val_acc: 0.8510\n",
            "Epoch 12/50\n",
            "110/110 [==============================] - 15s 133ms/step - loss: 0.5203 - acc: 0.8040 - val_loss: 0.4220 - val_acc: 0.8424\n",
            "Epoch 13/50\n",
            "110/110 [==============================] - 15s 135ms/step - loss: 0.5099 - acc: 0.8090 - val_loss: 0.3788 - val_acc: 0.8590\n",
            "Epoch 14/50\n",
            "110/110 [==============================] - 15s 136ms/step - loss: 0.5013 - acc: 0.8134 - val_loss: 0.3721 - val_acc: 0.8584\n",
            "Epoch 15/50\n",
            "110/110 [==============================] - 15s 134ms/step - loss: 0.4924 - acc: 0.8155 - val_loss: 0.3644 - val_acc: 0.8624\n",
            "Epoch 16/50\n",
            "110/110 [==============================] - 15s 136ms/step - loss: 0.4859 - acc: 0.8178 - val_loss: 0.3489 - val_acc: 0.8672\n",
            "Epoch 17/50\n",
            "110/110 [==============================] - 15s 137ms/step - loss: 0.4808 - acc: 0.8197 - val_loss: 0.3496 - val_acc: 0.8690\n",
            "Epoch 18/50\n",
            "110/110 [==============================] - 15s 136ms/step - loss: 0.4712 - acc: 0.8237 - val_loss: 0.3333 - val_acc: 0.8750\n",
            "Epoch 19/50\n",
            "110/110 [==============================] - 15s 137ms/step - loss: 0.4610 - acc: 0.8284 - val_loss: 0.3472 - val_acc: 0.8690\n",
            "Epoch 20/50\n",
            "110/110 [==============================] - 15s 136ms/step - loss: 0.4524 - acc: 0.8312 - val_loss: 0.3402 - val_acc: 0.8696\n",
            "Epoch 21/50\n",
            "110/110 [==============================] - 15s 135ms/step - loss: 0.4498 - acc: 0.8313 - val_loss: 0.3393 - val_acc: 0.8756\n",
            "Epoch 22/50\n",
            "110/110 [==============================] - 15s 136ms/step - loss: 0.4452 - acc: 0.8339 - val_loss: 0.3540 - val_acc: 0.8724\n",
            "Epoch 23/50\n",
            "110/110 [==============================] - 15s 136ms/step - loss: 0.4441 - acc: 0.8337 - val_loss: 0.3164 - val_acc: 0.8810\n",
            "Epoch 24/50\n",
            "110/110 [==============================] - 15s 136ms/step - loss: 0.4346 - acc: 0.8374 - val_loss: 0.3103 - val_acc: 0.8872\n",
            "Epoch 25/50\n",
            "110/110 [==============================] - 15s 136ms/step - loss: 0.4378 - acc: 0.8376 - val_loss: 0.3115 - val_acc: 0.8854\n",
            "Epoch 26/50\n",
            "110/110 [==============================] - 15s 141ms/step - loss: 0.4270 - acc: 0.8393 - val_loss: 0.3073 - val_acc: 0.8854\n",
            "Epoch 27/50\n",
            "110/110 [==============================] - 15s 137ms/step - loss: 0.4261 - acc: 0.8419 - val_loss: 0.3439 - val_acc: 0.8742\n",
            "Epoch 28/50\n",
            "110/110 [==============================] - 15s 135ms/step - loss: 0.4211 - acc: 0.8416 - val_loss: 0.3134 - val_acc: 0.8842\n",
            "Epoch 29/50\n",
            "110/110 [==============================] - 15s 139ms/step - loss: 0.4188 - acc: 0.8440 - val_loss: 0.2987 - val_acc: 0.8906\n",
            "Epoch 30/50\n",
            "110/110 [==============================] - 15s 138ms/step - loss: 0.4095 - acc: 0.8469 - val_loss: 0.3087 - val_acc: 0.8858\n",
            "Epoch 31/50\n",
            "110/110 [==============================] - 15s 137ms/step - loss: 0.4093 - acc: 0.8475 - val_loss: 0.3186 - val_acc: 0.8868\n",
            "Epoch 32/50\n",
            "110/110 [==============================] - 15s 140ms/step - loss: 0.4094 - acc: 0.8475 - val_loss: 0.2996 - val_acc: 0.8920\n",
            "Epoch 33/50\n",
            "110/110 [==============================] - 15s 137ms/step - loss: 0.4062 - acc: 0.8483 - val_loss: 0.2933 - val_acc: 0.8930\n",
            "Epoch 34/50\n",
            "110/110 [==============================] - 15s 137ms/step - loss: 0.4002 - acc: 0.8518 - val_loss: 0.3038 - val_acc: 0.8904\n",
            "Epoch 35/50\n",
            "110/110 [==============================] - 15s 138ms/step - loss: 0.4021 - acc: 0.8504 - val_loss: 0.2922 - val_acc: 0.8964\n",
            "Epoch 36/50\n",
            "110/110 [==============================] - 15s 136ms/step - loss: 0.4012 - acc: 0.8506 - val_loss: 0.2994 - val_acc: 0.8956\n",
            "Epoch 37/50\n",
            "110/110 [==============================] - 15s 138ms/step - loss: 0.3941 - acc: 0.8535 - val_loss: 0.2829 - val_acc: 0.8954\n",
            "Epoch 38/50\n",
            "110/110 [==============================] - 15s 140ms/step - loss: 0.3935 - acc: 0.8545 - val_loss: 0.2786 - val_acc: 0.8982\n",
            "Epoch 39/50\n",
            "110/110 [==============================] - 15s 137ms/step - loss: 0.3910 - acc: 0.8544 - val_loss: 0.2938 - val_acc: 0.8958\n",
            "Epoch 40/50\n",
            "110/110 [==============================] - 15s 137ms/step - loss: 0.3878 - acc: 0.8557 - val_loss: 0.2904 - val_acc: 0.8938\n",
            "Epoch 41/50\n",
            "110/110 [==============================] - 15s 138ms/step - loss: 0.3878 - acc: 0.8557 - val_loss: 0.2913 - val_acc: 0.8956\n",
            "Epoch 42/50\n",
            "110/110 [==============================] - 15s 136ms/step - loss: 0.3891 - acc: 0.8544 - val_loss: 0.2702 - val_acc: 0.9000\n",
            "Epoch 43/50\n",
            "110/110 [==============================] - 15s 136ms/step - loss: 0.3843 - acc: 0.8570 - val_loss: 0.2950 - val_acc: 0.8910\n",
            "Epoch 44/50\n",
            "110/110 [==============================] - 15s 138ms/step - loss: 0.3855 - acc: 0.8564 - val_loss: 0.2857 - val_acc: 0.8916\n",
            "Epoch 45/50\n",
            "110/110 [==============================] - 15s 136ms/step - loss: 0.3819 - acc: 0.8565 - val_loss: 0.2850 - val_acc: 0.8934\n",
            "Epoch 46/50\n",
            "110/110 [==============================] - 15s 137ms/step - loss: 0.3782 - acc: 0.8583 - val_loss: 0.2663 - val_acc: 0.9016\n",
            "Epoch 47/50\n",
            "110/110 [==============================] - 15s 139ms/step - loss: 0.3762 - acc: 0.8601 - val_loss: 0.2824 - val_acc: 0.8986\n",
            "Epoch 48/50\n",
            "110/110 [==============================] - 15s 138ms/step - loss: 0.3749 - acc: 0.8617 - val_loss: 0.2745 - val_acc: 0.9018\n",
            "Epoch 49/50\n",
            "110/110 [==============================] - 15s 137ms/step - loss: 0.3731 - acc: 0.8608 - val_loss: 0.3018 - val_acc: 0.8872\n",
            "Epoch 50/50\n",
            "110/110 [==============================] - 15s 138ms/step - loss: 0.3779 - acc: 0.8594 - val_loss: 0.2776 - val_acc: 0.8992\n"
          ],
          "name": "stdout"
        }
      ]
    },
    {
      "cell_type": "markdown",
      "metadata": {
        "id": "BmS3ySjYp0LO",
        "colab_type": "text"
      },
      "source": [
        "#Evaluasi Model"
      ]
    },
    {
      "cell_type": "code",
      "metadata": {
        "id": "yu0xG_4QljJY",
        "colab_type": "code",
        "colab": {
          "base_uri": "https://localhost:8080/",
          "height": 35
        },
        "outputId": "40271106-6c65-48f3-87cb-2c552c52bb12"
      },
      "source": [
        "#Mengecek Akurasi Model setelah fitting model\n",
        "print(\"Accuracy after fitting: {:.2f}%\".format(CNN.history['acc'][-1]*100))"
      ],
      "execution_count": 19,
      "outputs": [
        {
          "output_type": "stream",
          "text": [
            "Accuracy after fitting: 85.94%\n"
          ],
          "name": "stdout"
        }
      ]
    },
    {
      "cell_type": "code",
      "metadata": {
        "id": "Oi7pZFgQp7Xs",
        "colab_type": "code",
        "colab": {
          "base_uri": "https://localhost:8080/",
          "height": 392
        },
        "outputId": "d338b36a-5732-4d68-f004-3f40b006b1c5"
      },
      "source": [
        "plt.figure(figsize=(18,6))\n",
        "\n",
        "plt.subplot(1,2,1)\n",
        "plt.plot(CNN.history['loss'], color=\"black\", label = \"Loss\")\n",
        "plt.plot(CNN.history['val_loss'], color=\"red\", label = \"Validation Loss\")\n",
        "plt.ylabel(\"Loss\")\n",
        "plt.xlabel(\"Number of Epochs\")\n",
        "plt.legend()\n",
        "\n",
        "plt.subplot(1,2,2)\n",
        "plt.plot(CNN.history['acc'], color=\"black\", label = \"Accuracy\")\n",
        "plt.plot(CNN.history['val_acc'], color=\"red\", label = \"Validation Accuracy\")\n",
        "plt.ylabel(\"Accuracy\")\n",
        "plt.xlabel(\"Number of Epochs\")\n",
        "plt.legend()\n",
        "plt.show()"
      ],
      "execution_count": 20,
      "outputs": [
        {
          "output_type": "display_data",
          "data": {
            "image/png": "[encoded data removed]",
            "text/plain": [
              "<Figure size 1296x432 with 2 Axes>"
            ]
          },
          "metadata": {
            "tags": []
          }
        }
      ]
    },
    {
      "cell_type": "code",
      "metadata": {
        "id": "n46GrUIHp_eU",
        "colab_type": "code",
        "colab": {}
      },
      "source": [
        ""
      ],
      "execution_count": 0,
      "outputs": []
    },
    {
      "cell_type": "code",
      "metadata": {
        "id": "Nm-lTHQLqEIv",
        "colab_type": "code",
        "colab": {}
      },
      "source": [
        "#Menampilkan Akurasi Data Test dari Model\n",
        "score = CNNmodel.evaluate(X_test, Y_test)\n",
        "print(\"Test Accuracy: {:.2f}%\".format(score[1]*100))\n",
        "print(\"Test Loss: {:.3f}\".format(score[0]))"
      ],
      "execution_count": 0,
      "outputs": []
    },
    {
      "cell_type": "markdown",
      "metadata": {
        "id": "BKd8jlZHtrcO",
        "colab_type": "text"
      },
      "source": [
        "#Plot Confusion Matrix"
      ]
    },
    {
      "cell_type": "markdown",
      "metadata": {
        "id": "uuzrpBh6t3jO",
        "colab_type": "text"
      },
      "source": [
        "Confusion Matrix akan memungkinkan kita untuk memvisualisasikan kinerja algoritma model yang telah dibuat, memplot jawaban yang benar terhadap jawaban yang diprediksi model yang telah dibuat. Dengan itu, kita akan dapat melihat 'kelas' item pakaian mana yang paling tidak diprediksi oleh model kita."
      ]
    },
    {
      "cell_type": "code",
      "metadata": {
        "id": "j4apNbgNqHG5",
        "colab_type": "code",
        "colab": {
          "base_uri": "https://localhost:8080/",
          "height": 988
        },
        "outputId": "e8ea849e-2225-465b-bfcb-93108fa8ecdb"
      },
      "source": [
        "#Mengubah variabel Kebentuk Argumen array\n",
        "Y_pred = CNNmodel.predict(X_test)\n",
        "Y_pred_classes = np.argmax(Y_pred, axis = 1)\n",
        "Y_true = np.argmax(Y_test, axis = 1)\n",
        "confusionMatrix = confusion_matrix(Y_true, Y_pred_classes)\n",
        "\n",
        "f,ax=plt.subplots(figsize=(10,10))\n",
        "sns.heatmap(confusionMatrix, annot=True, linewidths=0.1, cmap = \"gist_yarg_r\", linecolor=\"black\", fmt='.0f', ax=ax)\n",
        "plt.xlabel(\"Predicted Label\")\n",
        "plt.ylabel(\"True Label\")\n",
        "plt.title(\"Confusion Matrix\")\n",
        "plt.show()\n",
        "\n",
        "# Menampilkan Confusion Matrix\n",
        "for i in range(len(confusionMatrix)):\n",
        "    print(\"Class:\",str(i))\n",
        "    print(\"Number of Wrong Prediction:\", str(sum(confusionMatrix[i])-confusionMatrix[i][i]), \"out of 1000\")"
      ],
      "execution_count": 21,
      "outputs": [
        {
          "output_type": "display_data",
          "data": {
            "image/png": "[encoded data removed]",
            "text/plain": [
              "<Figure size 720x720 with 2 Axes>"
            ]
          },
          "metadata": {
            "tags": []
          }
        },
        {
          "output_type": "stream",
          "text": [
            "Class: 0\n",
            "Number of Wrong Prediction: 202 out of 1000\n",
            "Class: 1\n",
            "Number of Wrong Prediction: 22 out of 1000\n",
            "Class: 2\n",
            "Number of Wrong Prediction: 194 out of 1000\n",
            "Class: 3\n",
            "Number of Wrong Prediction: 126 out of 1000\n",
            "Class: 4\n",
            "Number of Wrong Prediction: 189 out of 1000\n",
            "Class: 5\n",
            "Number of Wrong Prediction: 21 out of 1000\n",
            "Class: 6\n",
            "Number of Wrong Prediction: 244 out of 1000\n",
            "Class: 7\n",
            "Number of Wrong Prediction: 18 out of 1000\n",
            "Class: 8\n",
            "Number of Wrong Prediction: 21 out of 1000\n",
            "Class: 9\n",
            "Number of Wrong Prediction: 59 out of 1000\n"
          ],
          "name": "stdout"
        }
      ]
    },
    {
      "cell_type": "code",
      "metadata": {
        "id": "-4O2sEEezKxn",
        "colab_type": "code",
        "colab": {
          "base_uri": "https://localhost:8080/",
          "height": 329
        },
        "outputId": "5e9c489a-5a88-4161-c1e1-8e00a5d0abec"
      },
      "source": [
        "#import library untuk menampilkan f1score\n",
        "from sklearn.metrics import classification_report\n",
        "\n",
        "#Menampilkan Nilai F1 score Confusion Matrix\n",
        "print(classification_report(Y_true,Y_pred_classes))"
      ],
      "execution_count": 22,
      "outputs": [
        {
          "output_type": "stream",
          "text": [
            "              precision    recall  f1-score   support\n",
            "\n",
            "           0       0.88      0.80      0.84      1000\n",
            "           1       0.98      0.98      0.98      1000\n",
            "           2       0.87      0.81      0.84      1000\n",
            "           3       0.90      0.87      0.89      1000\n",
            "           4       0.80      0.81      0.81      1000\n",
            "           5       0.99      0.98      0.98      1000\n",
            "           6       0.64      0.76      0.69      1000\n",
            "           7       0.93      0.98      0.96      1000\n",
            "           8       0.98      0.98      0.98      1000\n",
            "           9       0.98      0.94      0.96      1000\n",
            "\n",
            "    accuracy                           0.89     10000\n",
            "   macro avg       0.90      0.89      0.89     10000\n",
            "weighted avg       0.90      0.89      0.89     10000\n",
            "\n"
          ],
          "name": "stdout"
        }
      ]
    },
    {
      "cell_type": "code",
      "metadata": {
        "id": "O2OBrhpe0ECW",
        "colab_type": "code",
        "colab": {}
      },
      "source": [
        ""
      ],
      "execution_count": 0,
      "outputs": []
    }
  ]
}