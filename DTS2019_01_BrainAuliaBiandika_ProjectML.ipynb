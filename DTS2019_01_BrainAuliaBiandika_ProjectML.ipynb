{
  "nbformat": 4,
  "nbformat_minor": 0,
  "metadata": {
    "colab": {
      "name": "DTS2019-01_BrainAuliaBiandika_ProjectML.ipynb",
      "version": "0.3.2",
      "provenance": [],
      "collapsed_sections": []
    },
    "kernelspec": {
      "name": "python3",
      "display_name": "Python 3"
    }
  },
  "cells": [
    {
      "cell_type": "code",
      "metadata": {
        "id": "9musREer94Cp",
        "colab_type": "code",
        "colab": {}
      },
      "source": [
        "##Import Library inti yang dibutuhkan\n",
        "# library untuk data processing\n",
        "import pandas as pd\n",
        "# library untuk proses array\n",
        "import numpy as np\n",
        "# library untuk visualisasi data\n",
        "import seaborn as sns\n",
        "import matplotlib.pyplot as plt\n",
        "\n",
        "\n"
      ],
      "execution_count": 0,
      "outputs": []
    },
    {
      "cell_type": "markdown",
      "metadata": {
        "id": "vrAIyXIi_z9v",
        "colab_type": "text"
      },
      "source": [
        "# Pre processing data sebelum di training"
      ]
    },
    {
      "cell_type": "code",
      "metadata": {
        "id": "-jbgCJZBAW0X",
        "colab_type": "code",
        "colab": {
          "base_uri": "https://localhost:8080/",
          "height": 328
        },
        "outputId": "26841b40-1b04-4b8d-a228-34b79bb17315"
      },
      "source": [
        "##Membaca data frame dan menempatkannya pada variabel df\n",
        "\n",
        "df = pd.read_csv(\"titanic.csv\", delimiter=\",\")\n",
        "## Menampilkan data frame untuk 5 baris pertama\n",
        "df.head()\n"
      ],
      "execution_count": 2,
      "outputs": [
        {
          "output_type": "execute_result",
          "data": {
            "text/html": [
              "<div>\n",
              "<style scoped>\n",
              "    .dataframe tbody tr th:only-of-type {\n",
              "        vertical-align: middle;\n",
              "    }\n",
              "\n",
              "    .dataframe tbody tr th {\n",
              "        vertical-align: top;\n",
              "    }\n",
              "\n",
              "    .dataframe thead th {\n",
              "        text-align: right;\n",
              "    }\n",
              "</style>\n",
              "<table border=\"1\" class=\"dataframe\">\n",
              "  <thead>\n",
              "    <tr style=\"text-align: right;\">\n",
              "      <th></th>\n",
              "      <th>PassengerId</th>\n",
              "      <th>Survived</th>\n",
              "      <th>Pclass</th>\n",
              "      <th>Name</th>\n",
              "      <th>Sex</th>\n",
              "      <th>Age</th>\n",
              "      <th>SibSp</th>\n",
              "      <th>Parch</th>\n",
              "      <th>Ticket</th>\n",
              "      <th>Fare</th>\n",
              "      <th>Cabin</th>\n",
              "      <th>Embarked</th>\n",
              "    </tr>\n",
              "  </thead>\n",
              "  <tbody>\n",
              "    <tr>\n",
              "      <th>0</th>\n",
              "      <td>1</td>\n",
              "      <td>0</td>\n",
              "      <td>3</td>\n",
              "      <td>Braund, Mr. Owen Harris</td>\n",
              "      <td>male</td>\n",
              "      <td>22.0</td>\n",
              "      <td>1</td>\n",
              "      <td>0</td>\n",
              "      <td>A/5 21171</td>\n",
              "      <td>7.2500</td>\n",
              "      <td>NaN</td>\n",
              "      <td>S</td>\n",
              "    </tr>\n",
              "    <tr>\n",
              "      <th>1</th>\n",
              "      <td>2</td>\n",
              "      <td>1</td>\n",
              "      <td>1</td>\n",
              "      <td>Cumings, Mrs. John Bradley (Florence Briggs Th...</td>\n",
              "      <td>female</td>\n",
              "      <td>38.0</td>\n",
              "      <td>1</td>\n",
              "      <td>0</td>\n",
              "      <td>PC 17599</td>\n",
              "      <td>71.2833</td>\n",
              "      <td>C85</td>\n",
              "      <td>C</td>\n",
              "    </tr>\n",
              "    <tr>\n",
              "      <th>2</th>\n",
              "      <td>3</td>\n",
              "      <td>1</td>\n",
              "      <td>3</td>\n",
              "      <td>Heikkinen, Miss. Laina</td>\n",
              "      <td>female</td>\n",
              "      <td>26.0</td>\n",
              "      <td>0</td>\n",
              "      <td>0</td>\n",
              "      <td>STON/O2. 3101282</td>\n",
              "      <td>7.9250</td>\n",
              "      <td>NaN</td>\n",
              "      <td>S</td>\n",
              "    </tr>\n",
              "    <tr>\n",
              "      <th>3</th>\n",
              "      <td>4</td>\n",
              "      <td>1</td>\n",
              "      <td>1</td>\n",
              "      <td>Futrelle, Mrs. Jacques Heath (Lily May Peel)</td>\n",
              "      <td>female</td>\n",
              "      <td>35.0</td>\n",
              "      <td>1</td>\n",
              "      <td>0</td>\n",
              "      <td>113803</td>\n",
              "      <td>53.1000</td>\n",
              "      <td>C123</td>\n",
              "      <td>S</td>\n",
              "    </tr>\n",
              "    <tr>\n",
              "      <th>4</th>\n",
              "      <td>5</td>\n",
              "      <td>0</td>\n",
              "      <td>3</td>\n",
              "      <td>Allen, Mr. William Henry</td>\n",
              "      <td>male</td>\n",
              "      <td>35.0</td>\n",
              "      <td>0</td>\n",
              "      <td>0</td>\n",
              "      <td>373450</td>\n",
              "      <td>8.0500</td>\n",
              "      <td>NaN</td>\n",
              "      <td>S</td>\n",
              "    </tr>\n",
              "  </tbody>\n",
              "</table>\n",
              "</div>"
            ],
            "text/plain": [
              "   PassengerId  Survived  Pclass  ...     Fare Cabin  Embarked\n",
              "0            1         0       3  ...   7.2500   NaN         S\n",
              "1            2         1       1  ...  71.2833   C85         C\n",
              "2            3         1       3  ...   7.9250   NaN         S\n",
              "3            4         1       1  ...  53.1000  C123         S\n",
              "4            5         0       3  ...   8.0500   NaN         S\n",
              "\n",
              "[5 rows x 12 columns]"
            ]
          },
          "metadata": {
            "tags": []
          },
          "execution_count": 2
        }
      ]
    },
    {
      "cell_type": "code",
      "metadata": {
        "id": "lpwByz0k_mAf",
        "colab_type": "code",
        "colab": {
          "base_uri": "https://localhost:8080/",
          "height": 35
        },
        "outputId": "26fc00f2-44ab-4b1f-9512-35255a01b86d"
      },
      "source": [
        "## Melihat jumlah baris dan kolom pada dataframe\n",
        "df.shape"
      ],
      "execution_count": 3,
      "outputs": [
        {
          "output_type": "execute_result",
          "data": {
            "text/plain": [
              "(891, 12)"
            ]
          },
          "metadata": {
            "tags": []
          },
          "execution_count": 3
        }
      ]
    },
    {
      "cell_type": "code",
      "metadata": {
        "id": "YV-uQ3_sBQ8G",
        "colab_type": "code",
        "colab": {
          "base_uri": "https://localhost:8080/",
          "height": 256
        },
        "outputId": "4ce78d0f-db9d-4a2a-9e54-1c3200c6073a"
      },
      "source": [
        "## Mengecek apakah ada nilai null pada dataframe\n",
        "df.isnull().any()"
      ],
      "execution_count": 4,
      "outputs": [
        {
          "output_type": "execute_result",
          "data": {
            "text/plain": [
              "PassengerId    False\n",
              "Survived       False\n",
              "Pclass         False\n",
              "Name           False\n",
              "Sex            False\n",
              "Age             True\n",
              "SibSp          False\n",
              "Parch          False\n",
              "Ticket         False\n",
              "Fare           False\n",
              "Cabin           True\n",
              "Embarked        True\n",
              "dtype: bool"
            ]
          },
          "metadata": {
            "tags": []
          },
          "execution_count": 4
        }
      ]
    },
    {
      "cell_type": "code",
      "metadata": {
        "id": "A6sRXclaCCx-",
        "colab_type": "code",
        "colab": {
          "base_uri": "https://localhost:8080/",
          "height": 256
        },
        "outputId": "d4354a67-a210-45e3-8a64-3e42640b7ac9"
      },
      "source": [
        "##proses mengecek nilai total missing value\n",
        "\n",
        "total = df.isnull().sum().sort_values(ascending=False)\n",
        "\n",
        "total\n"
      ],
      "execution_count": 5,
      "outputs": [
        {
          "output_type": "execute_result",
          "data": {
            "text/plain": [
              "Cabin          687\n",
              "Age            177\n",
              "Embarked         2\n",
              "Fare             0\n",
              "Ticket           0\n",
              "Parch            0\n",
              "SibSp            0\n",
              "Sex              0\n",
              "Name             0\n",
              "Pclass           0\n",
              "Survived         0\n",
              "PassengerId      0\n",
              "dtype: int64"
            ]
          },
          "metadata": {
            "tags": []
          },
          "execution_count": 5
        }
      ]
    },
    {
      "cell_type": "code",
      "metadata": {
        "id": "Gkcc4PbJDcbq",
        "colab_type": "code",
        "colab": {}
      },
      "source": [
        "##Membuang variabel cabin karena memiliki null yang cukup banyak\n",
        "df.drop('Cabin', axis=1, inplace=True)\n",
        "##Membuang variabel yang tidak berkaitan\n",
        "df.drop(['Name', 'PassengerId', 'Ticket'], axis=1, inplace=True)\n"
      ],
      "execution_count": 0,
      "outputs": []
    },
    {
      "cell_type": "markdown",
      "metadata": {
        "id": "sVceRdeiGezc",
        "colab_type": "text"
      },
      "source": [
        "Karena Kolom Embarked memiliki nilai null yang sedikit yaitu 2 maka bisa kita nilai null dengan nilai modus pada kolom embarked"
      ]
    },
    {
      "cell_type": "code",
      "metadata": {
        "id": "rf-C1_2BFSmj",
        "colab_type": "code",
        "colab": {
          "base_uri": "https://localhost:8080/",
          "height": 182
        },
        "outputId": "1f4bf5b7-8487-4dd9-971b-f163f5276d71"
      },
      "source": [
        "#Mengisi nilai null pada embarked\n",
        "## Mengisi nilai null \n",
        "mmodus = ['Embarked']\n",
        "for feature in mmodus:\n",
        "        if feature in df.columns.values:\n",
        "            df[feature] = df[feature].fillna(df[feature].value_counts().index[0])\n",
        "\n",
        "df.isnull().sum()\n"
      ],
      "execution_count": 7,
      "outputs": [
        {
          "output_type": "execute_result",
          "data": {
            "text/plain": [
              "Survived      0\n",
              "Pclass        0\n",
              "Sex           0\n",
              "Age         177\n",
              "SibSp         0\n",
              "Parch         0\n",
              "Fare          0\n",
              "Embarked      0\n",
              "dtype: int64"
            ]
          },
          "metadata": {
            "tags": []
          },
          "execution_count": 7
        }
      ]
    },
    {
      "cell_type": "markdown",
      "metadata": {
        "id": "XxcjyPuvIGkB",
        "colab_type": "text"
      },
      "source": [
        "Karena kolom age merupakan variabel penting dan memiliki nilai null kurang dari 50% maka nilai null pada kolom age bisa diisi dengan nilai rata-rata(mean) pada kolom tersebut."
      ]
    },
    {
      "cell_type": "code",
      "metadata": {
        "id": "0kSfE-mkGyZi",
        "colab_type": "code",
        "colab": {
          "base_uri": "https://localhost:8080/",
          "height": 182
        },
        "outputId": "2ec8d773-0a5c-4293-d343-c1ca8fdea00d"
      },
      "source": [
        "## Mengisi nilai null pada kolom Age\n",
        "mmean = ['Age']\n",
        "for feature in mmean:\n",
        "        if feature in df.columns.values:\n",
        "            df[feature] = df[feature].fillna(df[feature].mean())\n",
        "df.isnull().sum()"
      ],
      "execution_count": 9,
      "outputs": [
        {
          "output_type": "execute_result",
          "data": {
            "text/plain": [
              "Survived    0\n",
              "Pclass      0\n",
              "Sex         0\n",
              "Age         0\n",
              "SibSp       0\n",
              "Parch       0\n",
              "Fare        0\n",
              "Embarked    0\n",
              "dtype: int64"
            ]
          },
          "metadata": {
            "tags": []
          },
          "execution_count": 9
        }
      ]
    },
    {
      "cell_type": "code",
      "metadata": {
        "id": "i-Atp_tNJ60k",
        "colab_type": "code",
        "colab": {
          "base_uri": "https://localhost:8080/",
          "height": 256
        },
        "outputId": "212f7707-b8c6-4660-f449-909dff32c9f8"
      },
      "source": [
        "##Mengecek type nilai untuk setiap variabel\n",
        "df.info()"
      ],
      "execution_count": 11,
      "outputs": [
        {
          "output_type": "stream",
          "text": [
            "<class 'pandas.core.frame.DataFrame'>\n",
            "RangeIndex: 891 entries, 0 to 890\n",
            "Data columns (total 8 columns):\n",
            "Survived    891 non-null int64\n",
            "Pclass      891 non-null int64\n",
            "Sex         891 non-null object\n",
            "Age         891 non-null float64\n",
            "SibSp       891 non-null int64\n",
            "Parch       891 non-null int64\n",
            "Fare        891 non-null float64\n",
            "Embarked    891 non-null object\n",
            "dtypes: float64(2), int64(4), object(2)\n",
            "memory usage: 55.8+ KB\n"
          ],
          "name": "stdout"
        }
      ]
    },
    {
      "cell_type": "markdown",
      "metadata": {
        "id": "k29g8xYLKTCP",
        "colab_type": "text"
      },
      "source": [
        "Karena masih ada nilai yang berupa object maka perlu kita numerisasi"
      ]
    },
    {
      "cell_type": "code",
      "metadata": {
        "id": "u5NeqqkhKbNB",
        "colab_type": "code",
        "colab": {
          "base_uri": "https://localhost:8080/",
          "height": 256
        },
        "outputId": "a390f8ad-b4a7-4e29-a616-2c144611edb8"
      },
      "source": [
        "## import library untuk pre processing\n",
        "from sklearn.preprocessing import Imputer, StandardScaler, LabelEncoder\n",
        "\n",
        "#Numerisasi kolom Sex dan Embarked\n",
        "numerisasi = ['Sex','Embarked']\n",
        "for feature in numerisasi:\n",
        "        if feature in df.columns.values:\n",
        "            df[feature] = LabelEncoder().fit_transform(df[feature])\n",
        "df.info()"
      ],
      "execution_count": 16,
      "outputs": [
        {
          "output_type": "stream",
          "text": [
            "<class 'pandas.core.frame.DataFrame'>\n",
            "RangeIndex: 891 entries, 0 to 890\n",
            "Data columns (total 8 columns):\n",
            "Survived    891 non-null int64\n",
            "Pclass      891 non-null int64\n",
            "Sex         891 non-null int64\n",
            "Age         891 non-null float64\n",
            "SibSp       891 non-null int64\n",
            "Parch       891 non-null int64\n",
            "Fare        891 non-null float64\n",
            "Embarked    891 non-null int64\n",
            "dtypes: float64(2), int64(6)\n",
            "memory usage: 55.8 KB\n"
          ],
          "name": "stdout"
        }
      ]
    },
    {
      "cell_type": "code",
      "metadata": {
        "id": "-wTTUbKkPTkt",
        "colab_type": "code",
        "colab": {
          "base_uri": "https://localhost:8080/",
          "height": 465
        },
        "outputId": "23977366-b785-412b-8e01-e60d3cd8d32d"
      },
      "source": [
        "## Memvisualisasi data untuk setiap variabel\n",
        "df.hist()"
      ],
      "execution_count": 42,
      "outputs": [
        {
          "output_type": "execute_result",
          "data": {
            "text/plain": [
              "array([[<matplotlib.axes._subplots.AxesSubplot object at 0x7ff8926e8f98>,\n",
              "        <matplotlib.axes._subplots.AxesSubplot object at 0x7ff89265b470>,\n",
              "        <matplotlib.axes._subplots.AxesSubplot object at 0x7ff89267f748>],\n",
              "       [<matplotlib.axes._subplots.AxesSubplot object at 0x7ff892625cc0>,\n",
              "        <matplotlib.axes._subplots.AxesSubplot object at 0x7ff8925d5278>,\n",
              "        <matplotlib.axes._subplots.AxesSubplot object at 0x7ff8925fa7f0>],\n",
              "       [<matplotlib.axes._subplots.AxesSubplot object at 0x7ff8925a2d68>,\n",
              "        <matplotlib.axes._subplots.AxesSubplot object at 0x7ff8925cf358>,\n",
              "        <matplotlib.axes._subplots.AxesSubplot object at 0x7ff8925cf390>]],\n",
              "      dtype=object)"
            ]
          },
          "metadata": {
            "tags": []
          },
          "execution_count": 42
        },
        {
          "output_type": "display_data",
          "data": {
            "image/png": "[encoded data removed]",
            "text/plain": [
              "<Figure size 432x288 with 9 Axes>"
            ]
          },
          "metadata": {
            "tags": []
          }
        }
      ]
    },
    {
      "cell_type": "code",
      "metadata": {
        "id": "3_67uU-hLN6D",
        "colab_type": "code",
        "colab": {
          "base_uri": "https://localhost:8080/",
          "height": 90
        },
        "outputId": "9b9cbd08-5e34-411d-b69b-ee3a253e071a"
      },
      "source": [
        "from sklearn.model_selection import train_test_split\n",
        "\n",
        "#MENENTUKAN VARIABEL X DAN Y\n",
        "X=df.drop('Survived',axis=1)\n",
        "Y=df['Survived']\n",
        "\n",
        "#Mensplit data train dan data test\n",
        "X_train,X_test,y_train,y_test=train_test_split(X,Y, test_size=0.2, random_state=0)\n",
        "\n",
        "print(X_train.shape)\n",
        "print(X_test.shape)\n",
        "print(y_train.shape)\n",
        "print(y_test.shape)"
      ],
      "execution_count": 27,
      "outputs": [
        {
          "output_type": "stream",
          "text": [
            "(712, 7)\n",
            "(179, 7)\n",
            "(712,)\n",
            "(179,)\n"
          ],
          "name": "stdout"
        }
      ]
    },
    {
      "cell_type": "code",
      "metadata": {
        "id": "IDWchcVZLicQ",
        "colab_type": "code",
        "colab": {}
      },
      "source": [
        "# Import library untuk KNN\n",
        "from sklearn.neighbors import KNeighborsClassifier\n",
        "\n",
        "#K Nearest Neighbor:\n",
        "knn = KNeighborsClassifier(n_neighbors = 2) \n",
        "knn.fit(X_train, y_train)  \n",
        "y_pred = knn.predict(X_test)  \n",
        "acc_knn = round(knn.score(X_train, y_train) * 100, 2)"
      ],
      "execution_count": 0,
      "outputs": []
    },
    {
      "cell_type": "code",
      "metadata": {
        "id": "_INyrvUjNQUm",
        "colab_type": "code",
        "colab": {
          "base_uri": "https://localhost:8080/",
          "height": 35
        },
        "outputId": "bbca57fa-ac4d-405b-e368-b5110dab90ce"
      },
      "source": [
        "##Mengetest model KNN yang sudah ditrain\n",
        "yhat = knn.predict(X_test)\n",
        "yhat[0:5]"
      ],
      "execution_count": 32,
      "outputs": [
        {
          "output_type": "execute_result",
          "data": {
            "text/plain": [
              "array([0, 0, 0, 0, 0])"
            ]
          },
          "metadata": {
            "tags": []
          },
          "execution_count": 32
        }
      ]
    },
    {
      "cell_type": "code",
      "metadata": {
        "id": "ggESarqWNbyG",
        "colab_type": "code",
        "colab": {
          "base_uri": "https://localhost:8080/",
          "height": 256
        },
        "outputId": "a5c34997-3a87-47c4-ce30-98fbfc6c9a41"
      },
      "source": [
        "##Mengecek Nilai Akurasi Model dengan confusion metric\n",
        "from sklearn import metrics\n",
        "\n",
        "prediction = knn.predict(X_train)\n",
        "print(\"Train set Accuracy: \", metrics.accuracy_score(y_train, prediction))\n",
        "print(\"Test set Accuracy: \", metrics.accuracy_score(y_test, yhat))\n",
        "print(metrics.confusion_matrix(y_test, yhat))\n",
        "print(metrics.classification_report(y_test, yhat))"
      ],
      "execution_count": 43,
      "outputs": [
        {
          "output_type": "stream",
          "text": [
            "Train set Accuracy:  0.8384831460674157\n",
            "Test set Accuracy:  0.7094972067039106\n",
            "[[103   7]\n",
            " [ 45  24]]\n",
            "              precision    recall  f1-score   support\n",
            "\n",
            "           0       0.70      0.94      0.80       110\n",
            "           1       0.77      0.35      0.48        69\n",
            "\n",
            "    accuracy                           0.71       179\n",
            "   macro avg       0.74      0.64      0.64       179\n",
            "weighted avg       0.73      0.71      0.68       179\n",
            "\n"
          ],
          "name": "stdout"
        }
      ]
    },
    {
      "cell_type": "code",
      "metadata": {
        "id": "RwpNfNrGNccv",
        "colab_type": "code",
        "colab": {}
      },
      "source": [
        ""
      ],
      "execution_count": 0,
      "outputs": []
    }
  ]
}