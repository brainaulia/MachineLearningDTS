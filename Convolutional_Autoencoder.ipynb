{
  "nbformat": 4,
  "nbformat_minor": 0,
  "metadata": {
    "colab": {
      "name": "Convolutional Autoencoder.ipynb",
      "provenance": [],
      "collapsed_sections": []
    },
    "kernelspec": {
      "name": "python3",
      "display_name": "Python 3"
    },
    "accelerator": "GPU"
  },
  "cells": [
    {
      "cell_type": "markdown",
      "metadata": {
        "id": "OLqhpSjdHuwb",
        "colab_type": "text"
      },
      "source": [
        "#1. Persiapan"
      ]
    },
    {
      "cell_type": "code",
      "metadata": {
        "id": "gyeQ-AMnMCj0",
        "colab_type": "code",
        "outputId": "3f65c17b-62ea-4ddb-b6ae-f5d59ffeca71",
        "colab": {
          "base_uri": "https://localhost:8080/",
          "height": 459
        }
      },
      "source": [
        "import tensorflow as tf\n",
        "import numpy as np\n",
        "import matplotlib.pyplot as plt\n",
        "%matplotlib inline\n",
        "\n",
        "# Import MINST data\n",
        "from tensorflow.examples.tutorials.mnist import input_data\n",
        "mnist = input_data.read_data_sets(\"/tmp/data/\", one_hot=True)"
      ],
      "execution_count": 0,
      "outputs": [
        {
          "output_type": "stream",
          "text": [
            "WARNING: Logging before flag parsing goes to stderr.\n",
            "W0819 04:09:29.220407 139982344898432 deprecation.py:323] From <ipython-input-1-25ba941030a3>:8: read_data_sets (from tensorflow.contrib.learn.python.learn.datasets.mnist) is deprecated and will be removed in a future version.\n",
            "Instructions for updating:\n",
            "Please use alternatives such as official/mnist/dataset.py from tensorflow/models.\n",
            "W0819 04:09:29.221792 139982344898432 deprecation.py:323] From /usr/local/lib/python3.6/dist-packages/tensorflow/contrib/learn/python/learn/datasets/mnist.py:260: maybe_download (from tensorflow.contrib.learn.python.learn.datasets.base) is deprecated and will be removed in a future version.\n",
            "Instructions for updating:\n",
            "Please write your own downloading logic.\n",
            "W0819 04:09:29.222838 139982344898432 deprecation.py:323] From /usr/local/lib/python3.6/dist-packages/tensorflow/contrib/learn/python/learn/datasets/mnist.py:262: extract_images (from tensorflow.contrib.learn.python.learn.datasets.mnist) is deprecated and will be removed in a future version.\n",
            "Instructions for updating:\n",
            "Please use tf.data to implement this functionality.\n"
          ],
          "name": "stderr"
        },
        {
          "output_type": "stream",
          "text": [
            "Extracting /tmp/data/train-images-idx3-ubyte.gz\n"
          ],
          "name": "stdout"
        },
        {
          "output_type": "stream",
          "text": [
            "W0819 04:09:29.484024 139982344898432 deprecation.py:323] From /usr/local/lib/python3.6/dist-packages/tensorflow/contrib/learn/python/learn/datasets/mnist.py:267: extract_labels (from tensorflow.contrib.learn.python.learn.datasets.mnist) is deprecated and will be removed in a future version.\n",
            "Instructions for updating:\n",
            "Please use tf.data to implement this functionality.\n",
            "W0819 04:09:29.486965 139982344898432 deprecation.py:323] From /usr/local/lib/python3.6/dist-packages/tensorflow/contrib/learn/python/learn/datasets/mnist.py:110: dense_to_one_hot (from tensorflow.contrib.learn.python.learn.datasets.mnist) is deprecated and will be removed in a future version.\n",
            "Instructions for updating:\n",
            "Please use tf.one_hot on tensors.\n",
            "W0819 04:09:29.541712 139982344898432 deprecation.py:323] From /usr/local/lib/python3.6/dist-packages/tensorflow/contrib/learn/python/learn/datasets/mnist.py:290: DataSet.__init__ (from tensorflow.contrib.learn.python.learn.datasets.mnist) is deprecated and will be removed in a future version.\n",
            "Instructions for updating:\n",
            "Please use alternatives such as official/mnist/dataset.py from tensorflow/models.\n"
          ],
          "name": "stderr"
        },
        {
          "output_type": "stream",
          "text": [
            "Extracting /tmp/data/train-labels-idx1-ubyte.gz\n",
            "Extracting /tmp/data/t10k-images-idx3-ubyte.gz\n",
            "Extracting /tmp/data/t10k-labels-idx1-ubyte.gz\n"
          ],
          "name": "stdout"
        }
      ]
    },
    {
      "cell_type": "markdown",
      "metadata": {
        "id": "qCH-zsMCHz0Q",
        "colab_type": "text"
      },
      "source": [
        "#2. Menyiapkan Parameter"
      ]
    },
    {
      "cell_type": "code",
      "metadata": {
        "id": "Rf78SvuiMsMo",
        "colab_type": "code",
        "colab": {}
      },
      "source": [
        "# Training Parameters\n",
        "learning_rate = 0.001\n",
        "batch_size = 256\n",
        "\n",
        "epochs = 10\n",
        "display_step = 1"
      ],
      "execution_count": 0,
      "outputs": []
    },
    {
      "cell_type": "markdown",
      "metadata": {
        "id": "L3xXdZDsH2JG",
        "colab_type": "text"
      },
      "source": [
        "#3. Membangun Convolutional Autoencoder"
      ]
    },
    {
      "cell_type": "markdown",
      "metadata": {
        "id": "nmeZkxxEH8_y",
        "colab_type": "text"
      },
      "source": [
        "##3.1. Menyiapkan Input"
      ]
    },
    {
      "cell_type": "code",
      "metadata": {
        "id": "fmFePdIqNhMr",
        "colab_type": "code",
        "outputId": "6892bba5-9b4c-44ca-d52c-d71571c20226",
        "colab": {
          "base_uri": "https://localhost:8080/",
          "height": 54
        }
      },
      "source": [
        "?# tf Graph input\n",
        "X = tf.placeholder(tf.float32, [None, 28,28,1])\n",
        "X"
      ],
      "execution_count": 0,
      "outputs": [
        {
          "output_type": "stream",
          "text": [
            "Object `` not found.\n"
          ],
          "name": "stdout"
        },
        {
          "output_type": "execute_result",
          "data": {
            "text/plain": [
              "<tf.Tensor 'Placeholder:0' shape=(?, 28, 28, 1) dtype=float32>"
            ]
          },
          "metadata": {
            "tags": []
          },
          "execution_count": 3
        }
      ]
    },
    {
      "cell_type": "markdown",
      "metadata": {
        "id": "ek8ZK6sSICYE",
        "colab_type": "text"
      },
      "source": [
        "##3.2. Menyusun Arsitektur CAE"
      ]
    },
    {
      "cell_type": "code",
      "metadata": {
        "id": "r8JRNWCRgBLJ",
        "colab_type": "code",
        "outputId": "dec846b0-f1cf-444c-fe3b-2f4ea8c0ca96",
        "colab": {
          "base_uri": "https://localhost:8080/",
          "height": 202
        }
      },
      "source": [
        "### Encoder\n",
        "conv1 = tf.layers.conv2d(inputs=X, filters=16, kernel_size=(3,3), padding='same', activation=tf.nn.relu)\n",
        "# Now 28x28x16\n",
        "\n",
        "maxpool1 = tf.layers.max_pooling2d(conv1, pool_size=(2,2), strides=(2,2), padding='same')\n",
        "# Now 14x14x16\n",
        "\n",
        "conv2 = tf.layers.conv2d(inputs=maxpool1, filters=8, kernel_size=(3,3), padding='same', activation=tf.nn.relu)\n",
        "# Now 14x14x8\n",
        "\n",
        "maxpool2 = tf.layers.max_pooling2d(conv2, pool_size=(2,2), strides=(2,2), padding='same')                      \n",
        "# Now 7x7x8\n",
        "\n",
        "conv3 = tf.layers.conv2d(inputs=maxpool2, filters=8, kernel_size=(3,3), padding='same', activation=tf.nn.relu) \n",
        "# Now 7x7x8\n",
        "\n",
        "maxpool2 = tf.layers.max_pooling2d(conv2, pool_size=(2,2), strides=(2,2), padding='same')                      \n",
        "# Now 4x4x8"
      ],
      "execution_count": 0,
      "outputs": [
        {
          "output_type": "stream",
          "text": [
            "W0819 04:09:29.814448 139982344898432 deprecation.py:323] From <ipython-input-4-2d99279a1db3>:1: conv2d (from tensorflow.python.layers.convolutional) is deprecated and will be removed in a future version.\n",
            "Instructions for updating:\n",
            "Use `tf.keras.layers.Conv2D` instead.\n",
            "W0819 04:09:29.822301 139982344898432 deprecation.py:506] From /usr/local/lib/python3.6/dist-packages/tensorflow/python/ops/init_ops.py:1251: calling VarianceScaling.__init__ (from tensorflow.python.ops.init_ops) with dtype is deprecated and will be removed in a future version.\n",
            "Instructions for updating:\n",
            "Call initializer instance with the dtype argument instead of passing it to the constructor\n",
            "W0819 04:09:30.070983 139982344898432 deprecation.py:323] From <ipython-input-4-2d99279a1db3>:4: max_pooling2d (from tensorflow.python.layers.pooling) is deprecated and will be removed in a future version.\n",
            "Instructions for updating:\n",
            "Use keras.layers.MaxPooling2D instead.\n"
          ],
          "name": "stderr"
        }
      ]
    },
    {
      "cell_type": "code",
      "metadata": {
        "id": "bLxGamw0sRek",
        "colab_type": "code",
        "colab": {}
      },
      "source": [
        "### Bottle Neck\n",
        "conv4 = tf.layers.conv2d(inputs=maxpool2, filters=8, kernel_size=(3,3), padding='same', activation=tf.nn.relu)\n",
        "# Now 4x4x8"
      ],
      "execution_count": 0,
      "outputs": []
    },
    {
      "cell_type": "code",
      "metadata": {
        "id": "yJiy1SM2iPhq",
        "colab_type": "code",
        "colab": {}
      },
      "source": [
        "### Decoder\n",
        "upsample1 = tf.image.resize_images(conv4, size=(7,7), method=tf.image.ResizeMethod.NEAREST_NEIGHBOR)\n",
        "# Now 7x7x8\n",
        "\n",
        "conv5   = tf.layers.conv2d(inputs=upsample1, filters=8, kernel_size=(3,3), padding='same', activation=tf.nn.relu)\n",
        "# Now 7x7x16\n",
        "\n",
        "concat1 = tf.concat([conv3, conv5], axis=3)                                                                         \n",
        "# Now 7x7x64\n",
        "\n",
        "upsample2 = tf.image.resize_images(conv3, size=(14,14), method=tf.image.ResizeMethod.NEAREST_NEIGHBOR)              \n",
        "# Now 14x14x64\n",
        "\n",
        "conv6   = tf.layers.conv2d(inputs=upsample2, filters=8, kernel_size=(3,3), padding='same', activation=tf.nn.relu)\n",
        "# Now 14x14x16\n",
        "\n",
        "concat1 = tf.concat([conv2, conv6], axis=3)                                                                         \n",
        "# Now 14x14x32\n",
        "\n",
        "upsample2 = tf.image.resize_images(conv4, size=(28,28), method=tf.image.ResizeMethod.NEAREST_NEIGHBOR)              \n",
        "# Now 28x28x32\n",
        "\n",
        "conv7   = tf.layers.conv2d(inputs=upsample2, filters=16, kernel_size=(3,3), padding='same', activation=tf.nn.relu)\n",
        "# Now 28x28x8\n",
        "\n",
        "concat2 = tf.concat([conv1, conv7], axis=3)                                                                         \n",
        "# Now 28x28x16"
      ],
      "execution_count": 0,
      "outputs": []
    },
    {
      "cell_type": "markdown",
      "metadata": {
        "id": "vvMPYRi2IJn2",
        "colab_type": "text"
      },
      "source": [
        "##3.3. Rekonsruksi"
      ]
    },
    {
      "cell_type": "code",
      "metadata": {
        "id": "B5cHjwy4skQU",
        "colab_type": "code",
        "colab": {}
      },
      "source": [
        "reconstructed = tf.layers.conv2d(inputs=concat2, filters=1, kernel_size=(3,3), padding='same', activation=None)\n",
        "reconstructed_normalized = tf.nn.sigmoid(reconstructed)"
      ],
      "execution_count": 0,
      "outputs": []
    },
    {
      "cell_type": "markdown",
      "metadata": {
        "id": "X4WzzJJFIORU",
        "colab_type": "text"
      },
      "source": [
        "##3.4. Loss dan Optimisasi"
      ]
    },
    {
      "cell_type": "code",
      "metadata": {
        "id": "ael3wcRji4yu",
        "colab_type": "code",
        "outputId": "2cba5f51-1b51-4ece-bc67-afa3732b98e8",
        "colab": {
          "base_uri": "https://localhost:8080/",
          "height": 92
        }
      },
      "source": [
        "cost = tf.reduce_mean(tf.nn.sigmoid_cross_entropy_with_logits(labels=X, logits=reconstructed))\n",
        "optimizer = tf.train.AdamOptimizer(learning_rate=learning_rate).minimize(cost)"
      ],
      "execution_count": 0,
      "outputs": [
        {
          "output_type": "stream",
          "text": [
            "W0819 04:09:30.369418 139982344898432 deprecation.py:323] From /usr/local/lib/python3.6/dist-packages/tensorflow/python/ops/nn_impl.py:180: add_dispatch_support.<locals>.wrapper (from tensorflow.python.ops.array_ops) is deprecated and will be removed in a future version.\n",
            "Instructions for updating:\n",
            "Use tf.where in 2.0, which has the same broadcast rule as np.where\n"
          ],
          "name": "stderr"
        }
      ]
    },
    {
      "cell_type": "markdown",
      "metadata": {
        "id": "b7V0bXyoIQl9",
        "colab_type": "text"
      },
      "source": [
        "#4. Training"
      ]
    },
    {
      "cell_type": "code",
      "metadata": {
        "id": "Uy_Xbm0pkDEg",
        "colab_type": "code",
        "outputId": "b4502e86-ea5c-4e2a-c3de-7904cda0e866",
        "colab": {
          "base_uri": "https://localhost:8080/",
          "height": 219
        }
      },
      "source": [
        "session = tf.Session()\n",
        "session.run(tf.global_variables_initializer())\n",
        "\n",
        "total_batch = int(mnist.train.num_examples/batch_size)\n",
        "\n",
        "for epoch in range(epochs):\n",
        "\n",
        "  for i in range(total_batch):\n",
        "\n",
        "    batch_x, _ = mnist.train.next_batch(batch_size)\n",
        "    batch_x_reshaped = batch_x.reshape((-1, 28, 28, 1))\n",
        "\n",
        "    _, c = session.run([optimizer, cost], feed_dict={X:batch_x_reshaped})\n",
        "\n",
        "  if epoch % display_step == 0:\n",
        "    print(f'epoch = {epoch}/{epochs-1}... cost = {c:.4f}')\n",
        "\n",
        "print('Done!')"
      ],
      "execution_count": 0,
      "outputs": [
        {
          "output_type": "stream",
          "text": [
            "epoch = 0/9... cost = 0.0750\n",
            "epoch = 1/9... cost = 0.0664\n",
            "epoch = 2/9... cost = 0.0638\n",
            "epoch = 3/9... cost = 0.0635\n",
            "epoch = 4/9... cost = 0.0643\n",
            "epoch = 5/9... cost = 0.0625\n",
            "epoch = 6/9... cost = 0.0635\n",
            "epoch = 7/9... cost = 0.0617\n",
            "epoch = 8/9... cost = 0.0619\n",
            "epoch = 9/9... cost = 0.0645\n",
            "Done!\n"
          ],
          "name": "stdout"
        }
      ]
    },
    {
      "cell_type": "markdown",
      "metadata": {
        "id": "T73NPXRpITF1",
        "colab_type": "text"
      },
      "source": [
        "#5. Testing"
      ]
    },
    {
      "cell_type": "markdown",
      "metadata": {
        "id": "aEFzYUv432h3",
        "colab_type": "text"
      },
      "source": [
        "##5.1. Testing 1"
      ]
    },
    {
      "cell_type": "code",
      "metadata": {
        "id": "5q3XKBDvw7ku",
        "colab_type": "code",
        "colab": {}
      },
      "source": [
        "# Applying encode and decode over test set\n",
        "example_to_show = 10\n",
        "\n",
        "images = mnist.test.images[:example_to_show]\n",
        "encode_decode1 = session.run(reconstructed_normalized, feed_dict={X: images.reshape((-1, 28, 28, 1))})"
      ],
      "execution_count": 0,
      "outputs": []
    },
    {
      "cell_type": "code",
      "metadata": {
        "id": "jbDIFPOC3tHM",
        "colab_type": "code",
        "outputId": "b7df770b-79b8-4be5-c655-16a20afa60b9",
        "colab": {
          "base_uri": "https://localhost:8080/",
          "height": 211
        }
      },
      "source": [
        "# Compare original images with their reconstructions\n",
        "f, a = plt.subplots(2, 10, figsize=(15, 3))\n",
        "for i in range(example_to_show):\n",
        "    a[0][i].imshow(np.reshape(mnist.test.images[i], (28, 28)), cmap='Greys_r')\n",
        "    a[1][i].imshow(np.reshape(encode_decode1[i], (28, 28)), cmap='Greys_r')"
      ],
      "execution_count": 0,
      "outputs": [
        {
          "output_type": "display_data",
          "data": {
            "image/png": "[encoded data removed]",
            "text/plain": [
              "<Figure size 1080x216 with 20 Axes>"
            ]
          },
          "metadata": {
            "tags": []
          }
        }
      ]
    },
    {
      "cell_type": "markdown",
      "metadata": {
        "id": "gY8RInn2DBqw",
        "colab_type": "text"
      },
      "source": [
        "##5.2. Testing 2"
      ]
    },
    {
      "cell_type": "code",
      "metadata": {
        "id": "BA3TMXDIDC9_",
        "colab_type": "code",
        "colab": {}
      },
      "source": [
        "# Applying encode and decode over test set\n",
        "noisy_images = images + 0.12 * np.random.randn(*images.shape)\n",
        "noisy_images = np.clip(noisy_images, 0., 1.)\n",
        "\n",
        "encode_decode2 = session.run(reconstructed_normalized, feed_dict={X: noisy_images.reshape((-1, 28, 28, 1))})"
      ],
      "execution_count": 0,
      "outputs": []
    },
    {
      "cell_type": "code",
      "metadata": {
        "id": "GDK5Czx7D3PV",
        "colab_type": "code",
        "outputId": "9870cd85-8b4f-4d70-bc05-bfaaf5b3819c",
        "colab": {
          "base_uri": "https://localhost:8080/",
          "height": 211
        }
      },
      "source": [
        "# Compare original images with their reconstructions\n",
        "f, a = plt.subplots(2, 10, figsize=(15, 3))\n",
        "for i in range(example_to_show):\n",
        "    a[0][i].imshow(np.reshape(noisy_images[i], (28, 28)), cmap='Greys_r')\n",
        "    a[1][i].imshow(np.reshape(encode_decode2[i], (28, 28)), cmap='Greys_r')"
      ],
      "execution_count": 0,
      "outputs": [
        {
          "output_type": "display_data",
          "data": {
            "image/png": "[encoded data removed]",
            "text/plain": [
              "<Figure size 1080x216 with 20 Axes>"
            ]
          },
          "metadata": {
            "tags": []
          }
        }
      ]
    }
  ]
}